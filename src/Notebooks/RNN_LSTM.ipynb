{
  "nbformat": 4,
  "nbformat_minor": 0,
  "metadata": {
    "colab": {
      "provenance": []
    },
    "kernelspec": {
      "name": "python3",
      "display_name": "Python 3"
    },
    "language_info": {
      "name": "python"
    },
    "accelerator": "GPU",
    "gpuClass": "standard"
  },
  "cells": [
    {
      "cell_type": "code",
      "execution_count": 1,
      "metadata": {
        "id": "vxYEI4q6s3Fm"
      },
      "outputs": [],
      "source": [
        "from __future__ import print_function, division\n",
        "import os\n",
        "import torch\n",
        "import pandas as pd # For csv\n",
        "import numpy as np\n",
        "import matplotlib.pyplot as plt\n",
        "from torch.utils.data import Dataset, DataLoader\n",
        "from torchvision import transforms, utils, datasets\n",
        "\n",
        "import torch.nn as nn\n",
        "import torch.nn.functional as F\n",
        "import torch.optim as optim\n",
        "\n",
        "import collections\n",
        "import requests\n",
        "import pickle\n",
        "import json"
      ]
    },
    {
      "cell_type": "markdown",
      "source": [
        "## Protein Disorder Prediction"
      ],
      "metadata": {
        "id": "SrYf5mUlnjb6"
      }
    },
    {
      "cell_type": "markdown",
      "source": [
        "### Data set-up"
      ],
      "metadata": {
        "id": "ebjZeL7Wu-rv"
      }
    },
    {
      "cell_type": "markdown",
      "source": [
        "Import drive, so that DisProt.tsv can be read (assuming downloaded). Future adaption to use API to request TSV."
      ],
      "metadata": {
        "id": "8FElE8EiQhir"
      }
    },
    {
      "cell_type": "code",
      "source": [
        "from google.colab import drive\n",
        "drive.mount('/content/drive')"
      ],
      "metadata": {
        "id": "2WcDvDHutzeh",
        "colab": {
          "base_uri": "https://localhost:8080/"
        },
        "outputId": "c86cf4c1-a5b0-4d10-b84d-180f8ec70403"
      },
      "execution_count": 2,
      "outputs": [
        {
          "output_type": "stream",
          "name": "stdout",
          "text": [
            "Mounted at /content/drive\n"
          ]
        }
      ]
    },
    {
      "cell_type": "markdown",
      "source": [
        "Quick access to preprocessed data, instead of downloading it each time Notebook is opened."
      ],
      "metadata": {
        "id": "Es5pCp8KeX4j"
      }
    },
    {
      "cell_type": "code",
      "source": [
        "def read_sequences():\n",
        "  with open('/content/drive/My Drive/Colab Notebooks/diss_files/sequence_data.json', 'r') as infile:\n",
        "    return json.load(infile)\n",
        "\n",
        "def read_cleaned_pandas_data():\n",
        "  return pd.read_json('/content/drive/My Drive/Colab Notebooks/diss_files/idr_pandas_table.json')\n",
        "\n",
        "protein_sequences_n_ids = read_sequences()\n",
        "fully_clean_pandas_data = read_cleaned_pandas_data()"
      ],
      "metadata": {
        "id": "bRjKE0IjcDSz"
      },
      "execution_count": 3,
      "outputs": []
    },
    {
      "cell_type": "markdown",
      "source": [
        "Amino Acids Channeled Image"
      ],
      "metadata": {
        "id": "gipyUHo2a14x"
      }
    },
    {
      "cell_type": "code",
      "source": [
        "def make_empty_image(seq):\n",
        "  img = {\n",
        "    'A' : np.zeros(len(seq)),\n",
        "    'C' : np.zeros(len(seq)),\n",
        "    'D' : np.zeros(len(seq)),\n",
        "    'E' : np.zeros(len(seq)),\n",
        "    'F' : np.zeros(len(seq)),\n",
        "    'G' : np.zeros(len(seq)),\n",
        "    'H' : np.zeros(len(seq)),\n",
        "    'I' : np.zeros(len(seq)),\n",
        "    'K' : np.zeros(len(seq)),\n",
        "    'L' : np.zeros(len(seq)),\n",
        "    'M' : np.zeros(len(seq)),\n",
        "    'N' : np.zeros(len(seq)),\n",
        "    'P' : np.zeros(len(seq)),\n",
        "    'Q' : np.zeros(len(seq)),\n",
        "    'R' : np.zeros(len(seq)),\n",
        "    'S' : np.zeros(len(seq)),\n",
        "    'T' : np.zeros(len(seq)),\n",
        "    'V' : np.zeros(len(seq)),\n",
        "    'W' : np.zeros(len(seq)),\n",
        "    'Y' : np.zeros(len(seq))\n",
        "  }\n",
        "  return img\n",
        "\n",
        "def make_image(seq):\n",
        "  # Makes 20 empty channels\n",
        "  channeled_img = make_empty_image(seq)\n",
        "  # Loop over each amino acid in the sequence - \n",
        "  # for its position add a 1 to the letter identifier channel\n",
        "  for i, char in enumerate(seq):\n",
        "    # Updates array due to arrays being like pointers\n",
        "    channeled_img.get(char)[i] = 1\n",
        "\n",
        "  return channeled_img"
      ],
      "metadata": {
        "id": "vWSLWOaK-2A9"
      },
      "execution_count": 4,
      "outputs": []
    },
    {
      "cell_type": "markdown",
      "source": [
        "### Dataset class for our data. \n",
        "- Takes in pandas data (usually full TSV).\n",
        "- The amino acid vectorising map.\n",
        "- A dictionary mapping protein accession numbers to their sequence (generated from preprocessing)."
      ],
      "metadata": {
        "id": "79WpGfwSqHFz"
      }
    },
    {
      "cell_type": "code",
      "source": [
        "class DisProtDataset(Dataset):\n",
        "    def __init__(self, pandas_table, amino_map, protein_sequences, transform=None):\n",
        "        self.disorder_prot = pandas_table\n",
        "        self.sequence_map = make_image\n",
        "        self.sequences = protein_sequences\n",
        "        self.tranform = transform\n",
        "\n",
        "    def __len__(self):\n",
        "        return len(self.disorder_prot)\n",
        "\n",
        "    def __getitem__(self, idx):\n",
        "        # Protein accession number - key identifier\n",
        "        acc = self.disorder_prot['acc'].loc[idx]\n",
        "        idrs = self.disorder_prot['disordered_regions'].loc[idx]\n",
        "        \n",
        "        # Get sequence\n",
        "        protein_sequence = self.sequences.get(acc)\n",
        "        # Vectorise amino acids\n",
        "        protein_sequence_image = self.sequence_map(protein_sequence)\n",
        "        # Converts channel dictionary to 2D array\n",
        "        protein_sequence_image = np.array(list(protein_sequence_image.values()))\n",
        "        \n",
        "        # Create order/disorder label\n",
        "        disorder_label = np.zeros(len(protein_sequence))\n",
        "        for (start, end) in idrs:\n",
        "          disorder_label[start-1:end] = 1\n",
        "\n",
        "        get_dict = {'acc': acc, 'image': protein_sequence_image, 'label': disorder_label}\n",
        "        return get_dict"
      ],
      "metadata": {
        "id": "2hbU6qcbknvs"
      },
      "execution_count": 5,
      "outputs": []
    },
    {
      "cell_type": "markdown",
      "source": [
        "### Training model, given DisProt dataset"
      ],
      "metadata": {
        "id": "NAQwoAkAwOQ2"
      }
    },
    {
      "cell_type": "markdown",
      "source": [
        "Separate train/validation/test datasets. Currently using a 60/20/20 in place split from generated pandas data."
      ],
      "metadata": {
        "id": "LVya_gCvf8Ud"
      }
    },
    {
      "cell_type": "code",
      "source": [
        "randomly_sampled_pandas_data = fully_clean_pandas_data.sample(frac = 1, random_state=117).reset_index()\n",
        "\n",
        "train_len = round(len(randomly_sampled_pandas_data) * (60/100))\n",
        "train_pandas_data = randomly_sampled_pandas_data[0:train_len]\n",
        "train_dataset = DisProtDataset(train_pandas_data, make_image, protein_sequences_n_ids)\n",
        "\n",
        "valid_len = round((len(randomly_sampled_pandas_data) * (20/100)))\n",
        "valid_pandas_data = randomly_sampled_pandas_data[train_len:(train_len+valid_len)]\n",
        "# Reset index helps clean up index column after slicing.\n",
        "valid_pandas_data = valid_pandas_data.reset_index(drop=True)\n",
        "validation_dataset = DisProtDataset(valid_pandas_data, make_image, protein_sequences_n_ids)\n",
        "\n",
        "test_len = len(randomly_sampled_pandas_data) - (train_len + valid_len)\n",
        "test_pandas_data = randomly_sampled_pandas_data[(train_len+valid_len):]\n",
        "test_pandas_data = test_pandas_data.reset_index(drop=True)\n",
        "test_dataset = DisProtDataset(test_pandas_data, make_image, protein_sequences_n_ids)\n",
        "\n",
        "train_loader = DataLoader(train_dataset, batch_size=1,\n",
        "                        shuffle=True, num_workers=0)\n",
        "\n",
        "validation_loader = DataLoader(validation_dataset, batch_size=1,\n",
        "                        shuffle=True, num_workers=0)\n",
        "\n",
        "test_loader = DataLoader(test_dataset, batch_size=1,\n",
        "                        shuffle=True, num_workers=0)"
      ],
      "metadata": {
        "id": "idlEpTV1eASB"
      },
      "execution_count": 6,
      "outputs": []
    },
    {
      "cell_type": "markdown",
      "source": [
        "MCC calculation."
      ],
      "metadata": {
        "id": "ajDNhX3q0lKf"
      }
    },
    {
      "cell_type": "code",
      "source": [
        "# Turns the prediction to a list of ordered/disordered (0/1) predictions\n",
        "def pred_round(predicted_label):\n",
        "  predicted_label[predicted_label>=0.5] = 1\n",
        "  predicted_label[predicted_label<0.5] = 0\n",
        "  return predicted_label\n",
        "\n",
        "def calc_MCC(predicted_label, true_label):\n",
        "  # Calculating TN value\n",
        "  # Sum as True values take on the value of 1\n",
        "  TN = (true_label[predicted_label == 0] == 0).sum()\n",
        "  # Calculating FN\n",
        "  FN = (true_label[predicted_label == 0] == 1).sum()\n",
        "  # Calculating TP\n",
        "  TP = (true_label[predicted_label == 1] == 1).sum()\n",
        "  FP = (true_label[predicted_label == 1] == 0).sum()\n",
        "  #print(\"TP: \",TP,\"\\nFP: \",FP,\"\\nTN: \",TN,\"\\nFN: \",FN)\n",
        "\n",
        "  num = (TP * TN) - (FP * FN)\n",
        "  den = torch.sqrt( (TP+FP)*(TP+FN)*(TN+FP)*(TN+FN) )\n",
        "  if den == 0:\n",
        "    return 0\n",
        "  MCC = num / den\n",
        "  #print(\"MCC: \", MCC)\n",
        "  return MCC"
      ],
      "metadata": {
        "id": "xlwDVpKdz2pI"
      },
      "execution_count": 7,
      "outputs": []
    },
    {
      "cell_type": "markdown",
      "source": [
        "Counteracting the unbalanced dataset\n",
        "- Generate a weight given the ratio of ordered to disordered amino acids."
      ],
      "metadata": {
        "id": "rFs9kZKN37QN"
      }
    },
    {
      "cell_type": "code",
      "source": [
        "def loss_weight_multiplier():\n",
        "  total_amino_acids = 0\n",
        "  total_disordered_AA = 0\n",
        "  for i, sam in enumerate(train_loader):\n",
        "    lab = torch.squeeze(sam.get('label'))\n",
        "    total_amino_acids += len(lab)\n",
        "    total_disordered_AA += sum(lab)\n",
        "\n",
        "  disordered_ratio = total_disordered_AA / total_amino_acids\n",
        "  disordered_loss_weight = 1 / disordered_ratio\n",
        "  return disordered_loss_weight"
      ],
      "metadata": {
        "id": "nGGATdyj36qN"
      },
      "execution_count": 8,
      "outputs": []
    },
    {
      "cell_type": "markdown",
      "source": [
        "### Working with a PyTorch NN. RNN model"
      ],
      "metadata": {
        "id": "sXw_YBXOohYT"
      }
    },
    {
      "cell_type": "code",
      "source": [
        "class RNN_Net(nn.Module):\n",
        "    def __init__(self):\n",
        "        super().__init__()\n",
        "        # 20 inputs - for each amino acid\n",
        "        self.input_dim = 20\n",
        "        self.hidden_dim = 10\n",
        "        self.num_layers = 2\n",
        "        self.rnn1 = nn.LSTM(input_size=20, hidden_size=self.hidden_dim, num_layers=self.num_layers, batch_first=True)\n",
        "        self.relu1 = nn.ReLU()\n",
        "        self.linear = nn.Linear(10, 1)\n",
        "        #self.sig1 = nn.Sigmoid()\n",
        "\n",
        "    def init_hidden(self, batch_size):\n",
        "        # Initialise hidden state\n",
        "        return (torch.zeros(self.num_layers, batch_size, self.hidden_dim).cuda(), \n",
        "                torch.zeros(self.num_layers, batch_size, self.hidden_dim).cuda())\n",
        "\n",
        "    def forward(self, x):\n",
        "      batch_size = x.size(0)\n",
        "      h    = self.init_hidden(batch_size)\n",
        "      y, h = self.rnn1(x,h)\n",
        "\n",
        "      y = self.relu1(y)\n",
        "      \n",
        "      #y = self.sig1(self.linear(y))\n",
        "      y = self.linear(y)\n",
        "      \n",
        "      return y, h"
      ],
      "metadata": {
        "id": "S8fiuXyrHwS7"
      },
      "execution_count": 9,
      "outputs": []
    },
    {
      "cell_type": "markdown",
      "source": [
        "Training loop for RNN model.\n",
        "- Validation dataset used to monitor fit of model.\n",
        "- Uses loss weights."
      ],
      "metadata": {
        "id": "UWTSDlqk3iSk"
      }
    },
    {
      "cell_type": "code",
      "source": [
        "import datetime\n",
        "epoch_print_gap = 20\n",
        "\n",
        "def train_loop_rnn(n_epochs, optimizer, model, loss_fn, train_loader, valid_loader, device):\n",
        "    model = model.to(device)\n",
        "    for epoch in range(0, n_epochs):\n",
        "        \n",
        "        running_loss_train = 0.0\n",
        "        total_epoch_loss = 0.0\n",
        "\n",
        "        # Creating an iterator jumbles the sequences order, so each accumulated batch will consider different \n",
        "        # sequences over many epochs\n",
        "        train_iter = iter(train_loader)\n",
        "\n",
        "        # Where i is a counter and sam is a dictionary\n",
        "        for i, sam in enumerate(train_iter):\n",
        "          acc, image, label = sam.values()\n",
        "          # Einsum to flip axis dimensions suitable to rnn input\n",
        "          image = torch.einsum('ijk->ikj', image)\n",
        "          NN_input = image.type(torch.FloatTensor)\n",
        "          NN_input = NN_input.to(device)\n",
        "          expected_output = label.type(torch.FloatTensor)\n",
        "          expected_output = expected_output.to(device)\n",
        "\n",
        "          output, _ = model(NN_input)\n",
        "          squeezed_o = torch.squeeze(output)\n",
        "          squeezed_e_o = torch.squeeze(expected_output)\n",
        "\n",
        "          loss = loss_fn(squeezed_o, squeezed_e_o)          \n",
        "          loss.backward()\n",
        "          running_loss_train += loss.item()\n",
        "          total_epoch_loss += loss.item()\n",
        "\n",
        "          # This has effect of batches of size 16.\n",
        "          # Don't have just i as when i is 0, this is true, therefore use i+1 and divisor 17.\n",
        "          if (i+1) % 17 == 0:\n",
        "            optimizer.step()\n",
        "            optimizer.zero_grad()\n",
        "          \n",
        "          # Print loss throughout epoch.\n",
        "          # Shows loss per 400 sequences of each epoch.\n",
        "          # Only prints on print gap\n",
        "          if epoch % epoch_print_gap == 0:\n",
        "            if (i+1) % 400 == 0:\n",
        "              print(\"Epoch: \"+str(epoch), end=\" \")\n",
        "              # Average loss over these 400 sequences\n",
        "              print(\"Current loss: \"+str(running_loss_train / 400))\n",
        "              running_loss_train = 0.0\n",
        "        \n",
        "\n",
        "        # Validation data handling\n",
        "        valid_iter = iter(valid_loader)\n",
        "        total_loss_valid = 0\n",
        "        total_MCC_valid = 0\n",
        "        for i, sam in enumerate(valid_iter):\n",
        "          acc, image, label = sam.values()\n",
        "          # Einsum to flip axis dimensions suitable to rnn input\n",
        "          image = torch.einsum('ijk->ikj', image)\n",
        "          NN_input = image.type(torch.FloatTensor)\n",
        "          NN_input = NN_input.to(device)\n",
        "          expected_output = label.type(torch.FloatTensor)\n",
        "          expected_output = expected_output.to(device)\n",
        "\n",
        "          with torch.no_grad():\n",
        "            output, _ = model(NN_input)\n",
        "          squeezed_o = torch.squeeze(output)\n",
        "          squeezed_e_o = torch.squeeze(expected_output)\n",
        "\n",
        "          loss = loss_fn(squeezed_o, squeezed_e_o)          \n",
        "          total_loss_valid += loss.item()\n",
        "\n",
        "          total_MCC_valid += calc_MCC(pred_round(squeezed_o), squeezed_e_o)\n",
        "\n",
        "        # Separates printed epochs\n",
        "        if epoch == 0 or epoch % epoch_print_gap == 0:\n",
        "            print(\"Epoch\", epoch, \"Done \\n\\n\")\n",
        "\n",
        "        epoch_loss_arr.append( (total_epoch_loss / len(train_loader)) )\n",
        "        epoch_valid_loss_arr.append( (total_loss_valid / len(valid_loader)) )\n",
        "\n",
        "        epoch_valid_MCC_arr.append( (total_MCC_valid / len(valid_loader)) )\n",
        "\n",
        "# Main\n",
        "lamb=0.001    # L2 weight decay term\n",
        "lr = 0.001\n",
        "epochs = 250\n",
        "new_model = RNN_Net()\n",
        "optimizer = optim.SGD(new_model.parameters(), lr=lr, momentum=0.9, weight_decay=lamb)\n",
        "use_cuda = True\n",
        "device = torch.device(\"cuda\" if (use_cuda and torch.cuda.is_available()) else \"cpu\")\n",
        "disordered_loss_weight = loss_weight_multiplier()\n",
        "criterion = torch.nn.BCEWithLogitsLoss(pos_weight=disordered_loss_weight.to(device))\n",
        "\n",
        "epoch_loss_arr = []\n",
        "epoch_valid_loss_arr = []\n",
        "epoch_valid_MCC_arr = []\n",
        "train_loop_rnn(epochs, optimizer, new_model, criterion, train_loader, validation_loader, device)\n"
      ],
      "metadata": {
        "colab": {
          "base_uri": "https://localhost:8080/"
        },
        "id": "UHbEyGtx0keX",
        "outputId": "480438d0-cf61-44cb-f9d6-a760a6d03e2c"
      },
      "execution_count": 10,
      "outputs": [
        {
          "output_type": "stream",
          "name": "stdout",
          "text": [
            "Epoch: 0 Current loss: 1.497900779992342\n",
            "Epoch: 0 Current loss: 1.3820248183608055\n",
            "Epoch: 0 Current loss: 1.4055278313159942\n",
            "Epoch 0 Done \n",
            "\n",
            "\n",
            "Epoch: 20 Current loss: 1.263526387065649\n",
            "Epoch: 20 Current loss: 1.2864063708484172\n",
            "Epoch: 20 Current loss: 1.3476155805587768\n",
            "Epoch 20 Done \n",
            "\n",
            "\n",
            "Epoch: 40 Current loss: 1.2306630729138852\n",
            "Epoch: 40 Current loss: 1.2623153902590274\n",
            "Epoch: 40 Current loss: 1.2164966417849064\n",
            "Epoch 40 Done \n",
            "\n",
            "\n",
            "Epoch: 60 Current loss: 1.2192812532186508\n",
            "Epoch: 60 Current loss: 1.1925532692670822\n",
            "Epoch: 60 Current loss: 1.1435235493630171\n",
            "Epoch 60 Done \n",
            "\n",
            "\n",
            "Epoch: 80 Current loss: 1.1723632512241602\n",
            "Epoch: 80 Current loss: 1.1447555565834044\n",
            "Epoch: 80 Current loss: 1.16222302518785\n",
            "Epoch 80 Done \n",
            "\n",
            "\n",
            "Epoch: 100 Current loss: 1.2031569630652665\n",
            "Epoch: 100 Current loss: 1.1762153356522322\n",
            "Epoch: 100 Current loss: 1.1657984636723995\n",
            "Epoch 100 Done \n",
            "\n",
            "\n",
            "Epoch: 120 Current loss: 1.1848150189965962\n",
            "Epoch: 120 Current loss: 1.144801225438714\n",
            "Epoch: 120 Current loss: 1.1314375877380372\n",
            "Epoch 120 Done \n",
            "\n",
            "\n",
            "Epoch: 140 Current loss: 1.1670175425708293\n",
            "Epoch: 140 Current loss: 1.1417989208549262\n",
            "Epoch: 140 Current loss: 1.127619091719389\n",
            "Epoch 140 Done \n",
            "\n",
            "\n",
            "Epoch: 160 Current loss: 1.174315015822649\n",
            "Epoch: 160 Current loss: 1.1419485332816839\n",
            "Epoch: 160 Current loss: 1.1109790030866862\n",
            "Epoch 160 Done \n",
            "\n",
            "\n",
            "Epoch: 180 Current loss: 1.1243241339921952\n",
            "Epoch: 180 Current loss: 1.1244068689644338\n",
            "Epoch: 180 Current loss: 1.1259598195552827\n",
            "Epoch 180 Done \n",
            "\n",
            "\n",
            "Epoch: 200 Current loss: 1.0584636195376516\n",
            "Epoch: 200 Current loss: 1.1586324644461274\n",
            "Epoch: 200 Current loss: 1.1702377174794674\n",
            "Epoch 200 Done \n",
            "\n",
            "\n",
            "Epoch: 220 Current loss: 1.0893654525652527\n",
            "Epoch: 220 Current loss: 1.1083412778377533\n",
            "Epoch: 220 Current loss: 1.1095760156214238\n",
            "Epoch 220 Done \n",
            "\n",
            "\n",
            "Epoch: 240 Current loss: 1.083617165312171\n",
            "Epoch: 240 Current loss: 1.1559913113713265\n",
            "Epoch: 240 Current loss: 1.124168320186436\n",
            "Epoch 240 Done \n",
            "\n",
            "\n"
          ]
        }
      ]
    },
    {
      "cell_type": "code",
      "source": [
        "epoch_valid_MCC_arr_plottable = [epoch_valid_MCC_arr[i].to('cpu').numpy() if epoch_valid_MCC_arr[i] != 0 else 0.0 for i, se in enumerate(epoch_valid_MCC_arr)]\n",
        "\n",
        "plt.plot(range(250), epoch_loss_arr)\n",
        "plt.plot(range(250), epoch_valid_loss_arr)\n",
        "plt.plot(range(250), epoch_valid_MCC_arr_plottable)\n",
        "plt.show()"
      ],
      "metadata": {
        "colab": {
          "base_uri": "https://localhost:8080/",
          "height": 265
        },
        "id": "c7cMWVSi1p04",
        "outputId": "94493a3b-f03d-43bc-db1e-a2c5a0a0cb61"
      },
      "execution_count": 24,
      "outputs": [
        {
          "output_type": "display_data",
          "data": {
            "text/plain": [
              "<Figure size 432x288 with 1 Axes>"
            ],
            "image/png": "[encoded data removed]"
          },
          "metadata": {
            "needs_background": "light"
          }
        }
      ]
    },
    {
      "cell_type": "markdown",
      "source": [
        "MCC for test dataset."
      ],
      "metadata": {
        "id": "PTF3pqKx00YY"
      }
    },
    {
      "cell_type": "code",
      "source": [
        "test_mcc_score = 0\n",
        "\n",
        "for test_seq in test_loader:\n",
        "  input_seq = test_seq.get('image')\n",
        "  input_seq = torch.einsum('ijk->ikj', input_seq)\n",
        "  input_seq = input_seq.type(torch.FloatTensor)\n",
        "  input_seq = input_seq.to(device)\n",
        "  true_label = test_seq.get('label')\n",
        "  true_label = true_label.type(torch.FloatTensor)\n",
        "  true_label = true_label.to(device)\n",
        "\n",
        "  with torch.no_grad():\n",
        "    predicted_label, _ = new_model(input_seq)\n",
        "\n",
        "  predicted_label = torch.sigmoid(predicted_label)\n",
        "  predicted_label = torch.squeeze(predicted_label)\n",
        "  true_label = torch.squeeze(true_label)\n",
        "\n",
        "  pred_lab = pred_round(predicted_label)\n",
        "  test_mcc_score += calc_MCC(pred_lab, true_label)\n",
        "\n",
        "  #break\n",
        "print(\"Test MCC score: \", ( test_mcc_score / len(test_loader) ))"
      ],
      "metadata": {
        "id": "V-9Jyo5icy9D",
        "colab": {
          "base_uri": "https://localhost:8080/"
        },
        "outputId": "ef2d1c50-1027-4cbb-f4fc-18c01fb301c8"
      },
      "execution_count": 17,
      "outputs": [
        {
          "output_type": "stream",
          "name": "stdout",
          "text": [
            "Test MCC score:  tensor(0.1749, device='cuda:0')\n"
          ]
        }
      ]
    },
    {
      "cell_type": "markdown",
      "source": [
        "### Saving model"
      ],
      "metadata": {
        "id": "UdmP5HmufsGh"
      }
    },
    {
      "cell_type": "code",
      "source": [
        "# Writes trained model to storage\n",
        "def write_model(model):\n",
        "\n",
        "  model = model.to(\"cpu\")\n",
        "  PATH = '/content/drive/My Drive/Colab Notebooks/diss_files/rnn_net.pth'\n",
        "  torch.save(model.state_dict(), PATH)\n",
        "\n",
        "write_model(new_model)"
      ],
      "metadata": {
        "id": "-gULfz16frAc"
      },
      "execution_count": 23,
      "outputs": []
    },
    {
      "cell_type": "code",
      "source": [],
      "metadata": {
        "id": "L2i7OWQo5KYS"
      },
      "execution_count": null,
      "outputs": []
    }
  ]
}