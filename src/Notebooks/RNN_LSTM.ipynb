{
  "nbformat": 4,
  "nbformat_minor": 0,
  "metadata": {
    "colab": {
      "provenance": []
    },
    "kernelspec": {
      "name": "python3",
      "display_name": "Python 3"
    },
    "language_info": {
      "name": "python"
    },
    "accelerator": "GPU",
    "gpuClass": "standard"
  },
  "cells": [
    {
      "cell_type": "code",
      "execution_count": 1,
      "metadata": {
        "id": "vxYEI4q6s3Fm"
      },
      "outputs": [],
      "source": [
        "from __future__ import print_function, division\n",
        "import os\n",
        "import torch\n",
        "import pandas as pd # For csv\n",
        "import numpy as np\n",
        "import matplotlib.pyplot as plt\n",
        "from torch.utils.data import Dataset, DataLoader\n",
        "from torchvision import transforms, utils, datasets\n",
        "\n",
        "import torch.nn as nn\n",
        "import torch.nn.functional as F\n",
        "import torch.optim as optim\n",
        "\n",
        "import collections\n",
        "import requests\n",
        "import pickle"
      ]
    },
    {
      "cell_type": "markdown",
      "source": [
        "## Protein Disorder Prediction"
      ],
      "metadata": {
        "id": "SrYf5mUlnjb6"
      }
    },
    {
      "cell_type": "markdown",
      "source": [
        "### Data set-up"
      ],
      "metadata": {
        "id": "ebjZeL7Wu-rv"
      }
    },
    {
      "cell_type": "markdown",
      "source": [
        "Import drive, so that DisProt.tsv can be read (assuming downloaded). Future adaption to use API to request TSV."
      ],
      "metadata": {
        "id": "8FElE8EiQhir"
      }
    },
    {
      "cell_type": "code",
      "source": [
        "from google.colab import drive\n",
        "drive.mount('/content/drive')"
      ],
      "metadata": {
        "id": "2WcDvDHutzeh",
        "colab": {
          "base_uri": "https://localhost:8080/"
        },
        "outputId": "ee327b5a-8587-4862-953d-774c887e90c6"
      },
      "execution_count": 2,
      "outputs": [
        {
          "output_type": "stream",
          "name": "stdout",
          "text": [
            "Mounted at /content/drive\n"
          ]
        }
      ]
    },
    {
      "cell_type": "markdown",
      "source": [
        "Amino Acids Channeled Image"
      ],
      "metadata": {
        "id": "gipyUHo2a14x"
      }
    },
    {
      "cell_type": "code",
      "source": [
        "def make_empty_image(seq):\n",
        "  img = {\n",
        "    'A' : np.zeros(len(seq)),\n",
        "    'C' : np.zeros(len(seq)),\n",
        "    'D' : np.zeros(len(seq)),\n",
        "    'E' : np.zeros(len(seq)),\n",
        "    'F' : np.zeros(len(seq)),\n",
        "    'G' : np.zeros(len(seq)),\n",
        "    'H' : np.zeros(len(seq)),\n",
        "    'I' : np.zeros(len(seq)),\n",
        "    'K' : np.zeros(len(seq)),\n",
        "    'L' : np.zeros(len(seq)),\n",
        "    'M' : np.zeros(len(seq)),\n",
        "    'N' : np.zeros(len(seq)),\n",
        "    'P' : np.zeros(len(seq)),\n",
        "    'Q' : np.zeros(len(seq)),\n",
        "    'R' : np.zeros(len(seq)),\n",
        "    'S' : np.zeros(len(seq)),\n",
        "    'T' : np.zeros(len(seq)),\n",
        "    'V' : np.zeros(len(seq)),\n",
        "    'W' : np.zeros(len(seq)),\n",
        "    'Y' : np.zeros(len(seq))\n",
        "  }\n",
        "  return img\n",
        "\n",
        "def make_image(seq):\n",
        "  # Makes 20 empty channels\n",
        "  channeled_img = make_empty_image(seq)\n",
        "  # Loop over each amino acid in the sequence - \n",
        "  # for its position add a 1 to the letter identifier channel\n",
        "  for i, char in enumerate(seq):\n",
        "    # Updates array due to arrays being like pointers\n",
        "    channeled_img.get(char)[i] = 1\n",
        "\n",
        "  return channeled_img"
      ],
      "metadata": {
        "id": "vWSLWOaK-2A9"
      },
      "execution_count": 3,
      "outputs": []
    },
    {
      "cell_type": "code",
      "source": [
        "# Data from DisProt TSV - https://disprot.org/download\n",
        "data_disprot = pd.read_csv('/content/drive/My Drive/Colab Notebooks/DL-DISS/DisProt_v1.tsv', sep='\\t')"
      ],
      "metadata": {
        "id": "Zc5IeaTI5Vtw"
      },
      "execution_count": 4,
      "outputs": []
    },
    {
      "cell_type": "code",
      "source": [
        "# Dictionary for important data from DisProt\n",
        "disorder_start_and_end = {}\n",
        "\n",
        "for i, acc in enumerate(data_disprot['acc']):\n",
        "  s = data_disprot['start'][i]\n",
        "  e = data_disprot['end'][i]\n",
        "  arr = disorder_start_and_end.get((str(acc)), [])\n",
        "\n",
        "  if (s, e) not in arr:\n",
        "    disorder_start_and_end[str(acc)] = arr + [(s, e)]\n"
      ],
      "metadata": {
        "id": "xG6dyQnBKQLg"
      },
      "execution_count": 5,
      "outputs": []
    },
    {
      "cell_type": "code",
      "source": [
        "# Create new table for important DisProt data\n",
        "data = {'acc': disorder_start_and_end.keys(), 'disordered_regions': disorder_start_and_end.values()}"
      ],
      "metadata": {
        "id": "moNeeyrlMpc8"
      },
      "execution_count": 6,
      "outputs": []
    },
    {
      "cell_type": "code",
      "source": [
        "pd.DataFrame.from_dict(data)"
      ],
      "metadata": {
        "id": "CZ7zmVQONJao",
        "colab": {
          "base_uri": "https://localhost:8080/",
          "height": 424
        },
        "outputId": "6fba6047-9164-4492-dc2e-8baf2a8313b0"
      },
      "execution_count": 7,
      "outputs": [
        {
          "output_type": "execute_result",
          "data": {
            "text/plain": [
              "             acc                                disordered_regions\n",
              "0         P03265                          [(294, 334), (454, 464)]\n",
              "1         P49913                                      [(134, 170)]\n",
              "2         P03045            [(1, 107), (1, 22), (34, 47), (1, 36)]\n",
              "3         P00004                              [(1, 104), (2, 105)]\n",
              "4         P27695             [(1, 42), (1, 36), (32, 43), (2, 40)]\n",
              "...          ...                                               ...\n",
              "2414  A0A5P2U9X4  [(350, 525), (460, 521), (417, 426), (450, 525)]\n",
              "2415      P40939                                      [(637, 647)]\n",
              "2416      Q6CSX2                                      [(562, 831)]\n",
              "2417      Q8IYT8                                      [(168, 177)]\n",
              "2418      Q9UHK0                                      [(486, 495)]\n",
              "\n",
              "[2419 rows x 2 columns]"
            ],
            "text/html": [
              "\n",
              "  <div id=\"df-50ebf55a-6dcd-403a-b79a-b1df36250379\">\n",
              "    <div class=\"colab-df-container\">\n",
              "      <div>\n",
              "<style scoped>\n",
              "    .dataframe tbody tr th:only-of-type {\n",
              "        vertical-align: middle;\n",
              "    }\n",
              "\n",
              "    .dataframe tbody tr th {\n",
              "        vertical-align: top;\n",
              "    }\n",
              "\n",
              "    .dataframe thead th {\n",
              "        text-align: right;\n",
              "    }\n",
              "</style>\n",
              "<table border=\"1\" class=\"dataframe\">\n",
              "  <thead>\n",
              "    <tr style=\"text-align: right;\">\n",
              "      <th></th>\n",
              "      <th>acc</th>\n",
              "      <th>disordered_regions</th>\n",
              "    </tr>\n",
              "  </thead>\n",
              "  <tbody>\n",
              "    <tr>\n",
              "      <th>0</th>\n",
              "      <td>P03265</td>\n",
              "      <td>[(294, 334), (454, 464)]</td>\n",
              "    </tr>\n",
              "    <tr>\n",
              "      <th>1</th>\n",
              "      <td>P49913</td>\n",
              "      <td>[(134, 170)]</td>\n",
              "    </tr>\n",
              "    <tr>\n",
              "      <th>2</th>\n",
              "      <td>P03045</td>\n",
              "      <td>[(1, 107), (1, 22), (34, 47), (1, 36)]</td>\n",
              "    </tr>\n",
              "    <tr>\n",
              "      <th>3</th>\n",
              "      <td>P00004</td>\n",
              "      <td>[(1, 104), (2, 105)]</td>\n",
              "    </tr>\n",
              "    <tr>\n",
              "      <th>4</th>\n",
              "      <td>P27695</td>\n",
              "      <td>[(1, 42), (1, 36), (32, 43), (2, 40)]</td>\n",
              "    </tr>\n",
              "    <tr>\n",
              "      <th>...</th>\n",
              "      <td>...</td>\n",
              "      <td>...</td>\n",
              "    </tr>\n",
              "    <tr>\n",
              "      <th>2414</th>\n",
              "      <td>A0A5P2U9X4</td>\n",
              "      <td>[(350, 525), (460, 521), (417, 426), (450, 525)]</td>\n",
              "    </tr>\n",
              "    <tr>\n",
              "      <th>2415</th>\n",
              "      <td>P40939</td>\n",
              "      <td>[(637, 647)]</td>\n",
              "    </tr>\n",
              "    <tr>\n",
              "      <th>2416</th>\n",
              "      <td>Q6CSX2</td>\n",
              "      <td>[(562, 831)]</td>\n",
              "    </tr>\n",
              "    <tr>\n",
              "      <th>2417</th>\n",
              "      <td>Q8IYT8</td>\n",
              "      <td>[(168, 177)]</td>\n",
              "    </tr>\n",
              "    <tr>\n",
              "      <th>2418</th>\n",
              "      <td>Q9UHK0</td>\n",
              "      <td>[(486, 495)]</td>\n",
              "    </tr>\n",
              "  </tbody>\n",
              "</table>\n",
              "<p>2419 rows × 2 columns</p>\n",
              "</div>\n",
              "      <button class=\"colab-df-convert\" onclick=\"convertToInteractive('df-50ebf55a-6dcd-403a-b79a-b1df36250379')\"\n",
              "              title=\"Convert this dataframe to an interactive table.\"\n",
              "              style=\"display:none;\">\n",
              "        \n",
              "  <svg xmlns=\"http://www.w3.org/2000/svg\" height=\"24px\"viewBox=\"0 0 24 24\"\n",
              "       width=\"24px\">\n",
              "    <path d=\"M0 0h24v24H0V0z\" fill=\"none\"/>\n",
              "    <path d=\"M18.56 5.44l.94 2.06.94-2.06 2.06-.94-2.06-.94-.94-2.06-.94 2.06-2.06.94zm-11 1L8.5 8.5l.94-2.06 2.06-.94-2.06-.94L8.5 2.5l-.94 2.06-2.06.94zm10 10l.94 2.06.94-2.06 2.06-.94-2.06-.94-.94-2.06-.94 2.06-2.06.94z\"/><path d=\"M17.41 7.96l-1.37-1.37c-.4-.4-.92-.59-1.43-.59-.52 0-1.04.2-1.43.59L10.3 9.45l-7.72 7.72c-.78.78-.78 2.05 0 2.83L4 21.41c.39.39.9.59 1.41.59.51 0 1.02-.2 1.41-.59l7.78-7.78 2.81-2.81c.8-.78.8-2.07 0-2.86zM5.41 20L4 18.59l7.72-7.72 1.47 1.35L5.41 20z\"/>\n",
              "  </svg>\n",
              "      </button>\n",
              "      \n",
              "  <style>\n",
              "    .colab-df-container {\n",
              "      display:flex;\n",
              "      flex-wrap:wrap;\n",
              "      gap: 12px;\n",
              "    }\n",
              "\n",
              "    .colab-df-convert {\n",
              "      background-color: #E8F0FE;\n",
              "      border: none;\n",
              "      border-radius: 50%;\n",
              "      cursor: pointer;\n",
              "      display: none;\n",
              "      fill: #1967D2;\n",
              "      height: 32px;\n",
              "      padding: 0 0 0 0;\n",
              "      width: 32px;\n",
              "    }\n",
              "\n",
              "    .colab-df-convert:hover {\n",
              "      background-color: #E2EBFA;\n",
              "      box-shadow: 0px 1px 2px rgba(60, 64, 67, 0.3), 0px 1px 3px 1px rgba(60, 64, 67, 0.15);\n",
              "      fill: #174EA6;\n",
              "    }\n",
              "\n",
              "    [theme=dark] .colab-df-convert {\n",
              "      background-color: #3B4455;\n",
              "      fill: #D2E3FC;\n",
              "    }\n",
              "\n",
              "    [theme=dark] .colab-df-convert:hover {\n",
              "      background-color: #434B5C;\n",
              "      box-shadow: 0px 1px 3px 1px rgba(0, 0, 0, 0.15);\n",
              "      filter: drop-shadow(0px 1px 2px rgba(0, 0, 0, 0.3));\n",
              "      fill: #FFFFFF;\n",
              "    }\n",
              "  </style>\n",
              "\n",
              "      <script>\n",
              "        const buttonEl =\n",
              "          document.querySelector('#df-50ebf55a-6dcd-403a-b79a-b1df36250379 button.colab-df-convert');\n",
              "        buttonEl.style.display =\n",
              "          google.colab.kernel.accessAllowed ? 'block' : 'none';\n",
              "\n",
              "        async function convertToInteractive(key) {\n",
              "          const element = document.querySelector('#df-50ebf55a-6dcd-403a-b79a-b1df36250379');\n",
              "          const dataTable =\n",
              "            await google.colab.kernel.invokeFunction('convertToInteractive',\n",
              "                                                     [key], {});\n",
              "          if (!dataTable) return;\n",
              "\n",
              "          const docLinkHtml = 'Like what you see? Visit the ' +\n",
              "            '<a target=\"_blank\" href=https://colab.research.google.com/notebooks/data_table.ipynb>data table notebook</a>'\n",
              "            + ' to learn more about interactive tables.';\n",
              "          element.innerHTML = '';\n",
              "          dataTable['output_type'] = 'display_data';\n",
              "          await google.colab.output.renderOutput(dataTable, element);\n",
              "          const docLink = document.createElement('div');\n",
              "          docLink.innerHTML = docLinkHtml;\n",
              "          element.appendChild(docLink);\n",
              "        }\n",
              "      </script>\n",
              "    </div>\n",
              "  </div>\n",
              "  "
            ]
          },
          "metadata": {},
          "execution_count": 7
        }
      ]
    },
    {
      "cell_type": "code",
      "source": [
        "pandas_data = pd.DataFrame.from_dict(data)"
      ],
      "metadata": {
        "id": "2zdirGSM1mLG"
      },
      "execution_count": 8,
      "outputs": []
    },
    {
      "cell_type": "markdown",
      "source": [
        "The proteins in this dataframe are preprocessed to get their full sequences from UniProt."
      ],
      "metadata": {
        "id": "UgikDmCOs6pQ"
      }
    },
    {
      "cell_type": "code",
      "source": [
        "# Preprocessing - download all sequences.\n",
        "def preprocess_sequences(pandas_data):\n",
        "  protSeqDict = {}\n",
        "  for row in range(len(pandas_data)):\n",
        "    acc = pandas_data['acc'].loc[row]\n",
        "\n",
        "    url = f'https://www.uniprot.org/uniprotkb/{str(acc)}.fasta'\n",
        "    uniprot_fasta = requests.get(url).text\n",
        "    # Gets the sequence as a string of amino acids\n",
        "    protein_sequence = uniprot_fasta.split('\\n')[1:]\n",
        "    protein_sequence = ''.join(protein_sequence)\n",
        "\n",
        "    if protein_sequence == '':\n",
        "      continue\n",
        "\n",
        "    protSeqDict[acc] = protein_sequence\n",
        "  return protSeqDict\n",
        "\n",
        "protein_sequences_n_ids = preprocess_sequences(pandas_data)"
      ],
      "metadata": {
        "id": "__HLboQMkuC0"
      },
      "execution_count": null,
      "outputs": []
    },
    {
      "cell_type": "code",
      "source": [
        "with open('/content/drive/My Drive/Colab Notebooks/DL-DISS/uniSeqData.txt', 'wb') as outfile:\n",
        "    pickle.dump(protein_sequences_n_ids, outfile)"
      ],
      "metadata": {
        "id": "zeWa776Z6oCT"
      },
      "execution_count": null,
      "outputs": []
    },
    {
      "cell_type": "markdown",
      "source": [
        "Quick access to preprocessed data, instead of downloading it each time Notebook is opened."
      ],
      "metadata": {
        "id": "Es5pCp8KeX4j"
      }
    },
    {
      "cell_type": "code",
      "source": [
        "with open('/content/drive/My Drive/Colab Notebooks/DL-DISS/uniSeqData.txt', 'rb') as infile:\n",
        "    protein_sequences_n_ids = pickle.load(infile)"
      ],
      "metadata": {
        "id": "BfOrcmCH7mpr"
      },
      "execution_count": 9,
      "outputs": []
    },
    {
      "cell_type": "markdown",
      "source": [
        "Removing protein data that is incompatible with my solution."
      ],
      "metadata": {
        "id": "rLif_xOQeo_c"
      }
    },
    {
      "cell_type": "code",
      "source": [
        "clean_pandas_data = pandas_data\n",
        "x = protein_sequences_n_ids.keys()\n",
        "for acc in pandas_data['acc']:\n",
        "  if acc in x:\n",
        "    continue\n",
        "  else:\n",
        "    index_to_drop = clean_pandas_data[clean_pandas_data['acc'] == acc].index.tolist()[0]\n",
        "    clean_pandas_data = clean_pandas_data.drop(index_to_drop)"
      ],
      "metadata": {
        "id": "hBSpgSf24pev"
      },
      "execution_count": 10,
      "outputs": []
    },
    {
      "cell_type": "code",
      "source": [
        "for acc in clean_pandas_data['acc']:\n",
        "  seqq = protein_sequences_n_ids.get(acc)\n",
        "  if 'X' in seqq or 'U' in seqq or 'Z' in seqq:\n",
        "    index_to_drop = clean_pandas_data[clean_pandas_data['acc'] == acc].index.tolist()[0]\n",
        "    clean_pandas_data = clean_pandas_data.drop(index_to_drop)\n",
        "\n",
        "print(len(clean_pandas_data))"
      ],
      "metadata": {
        "colab": {
          "base_uri": "https://localhost:8080/"
        },
        "id": "LvSnFFs37mo3",
        "outputId": "5efe267a-3604-481a-aa23-3bc9d90f39ef"
      },
      "execution_count": 11,
      "outputs": [
        {
          "output_type": "stream",
          "name": "stdout",
          "text": [
            "2409\n"
          ]
        }
      ]
    },
    {
      "cell_type": "code",
      "source": [
        "clean_data = {'acc': (clean_pandas_data['acc'].tolist()), 'disordered_regions': (clean_pandas_data['disordered_regions'].tolist())}\n",
        "fully_clean_pandas_data = pd.DataFrame.from_dict(clean_data)"
      ],
      "metadata": {
        "id": "ztRDb1LuMWHQ"
      },
      "execution_count": 12,
      "outputs": []
    },
    {
      "cell_type": "markdown",
      "source": [
        "### Dataset class for our data. \n",
        "- Takes in pandas data (usually full TSV).\n",
        "- The amino acid vectorising map.\n",
        "- A dictionary mapping protein accession numbers to their sequence (generated from preprocessing)."
      ],
      "metadata": {
        "id": "79WpGfwSqHFz"
      }
    },
    {
      "cell_type": "code",
      "source": [
        "class DisProtDataset(Dataset):\n",
        "    def __init__(self, pandas_table, amino_map, protein_sequences, transform=None):\n",
        "        self.disorder_prot = pandas_table\n",
        "        self.sequence_map = make_image\n",
        "        self.sequences = protein_sequences\n",
        "        self.tranform = transform\n",
        "\n",
        "    def __len__(self):\n",
        "        return len(self.disorder_prot)\n",
        "\n",
        "    def __getitem__(self, idx):\n",
        "        # Protein accession number - key identifier\n",
        "        acc = self.disorder_prot['acc'].loc[idx]\n",
        "        idrs = self.disorder_prot['disordered_regions'].loc[idx]\n",
        "        \n",
        "        # Get sequence\n",
        "        protein_sequence = self.sequences.get(acc)\n",
        "        # Vectorise amino acids\n",
        "        protein_sequence_image = self.sequence_map(protein_sequence)\n",
        "        # Converts channel dictionary to 2D array\n",
        "        protein_sequence_image = np.array(list(protein_sequence_image.values()))\n",
        "        \n",
        "        # Create order/disorder label\n",
        "        disorder_label = np.zeros(len(protein_sequence))\n",
        "        for (start, end) in idrs:\n",
        "          disorder_label[start-1:end] = 1\n",
        "\n",
        "        get_dict = {'acc': acc, 'image': protein_sequence_image, 'label': disorder_label}\n",
        "        return get_dict"
      ],
      "metadata": {
        "id": "2hbU6qcbknvs"
      },
      "execution_count": 13,
      "outputs": []
    },
    {
      "cell_type": "markdown",
      "source": [
        "### Working with a PyTorch NN. RNN model"
      ],
      "metadata": {
        "id": "sXw_YBXOohYT"
      }
    },
    {
      "cell_type": "code",
      "source": [
        "class RNN_Net(nn.Module):\n",
        "    def __init__(self):\n",
        "        super().__init__()\n",
        "        # 20 inputs - for each amino acid\n",
        "        self.input_dim = 20\n",
        "        self.hidden_dim = 10\n",
        "        self.num_layers = 2\n",
        "        self.rnn1 = nn.LSTM(input_size=20, hidden_size=self.hidden_dim, num_layers=self.num_layers, batch_first=True)\n",
        "        self.relu1 = nn.ReLU()\n",
        "        self.linear = nn.Linear(10, 1)\n",
        "        self.sig1 = nn.Sigmoid()\n",
        "\n",
        "    def init_hidden(self, batch_size):\n",
        "        # Initialise hidden state\n",
        "        return (torch.zeros(self.num_layers, batch_size, self.hidden_dim).cuda(), \n",
        "                torch.zeros(self.num_layers, batch_size, self.hidden_dim).cuda())\n",
        "\n",
        "    def forward(self, x):\n",
        "      batch_size = x.size(0)\n",
        "      h    = self.init_hidden(batch_size)\n",
        "      y, h = self.rnn1(x,h)\n",
        "\n",
        "      y = self.relu1(y)\n",
        "      \n",
        "      y = self.sig1(self.linear(y))\n",
        "      \n",
        "      return y, h"
      ],
      "metadata": {
        "id": "S8fiuXyrHwS7"
      },
      "execution_count": 19,
      "outputs": []
    },
    {
      "cell_type": "markdown",
      "source": [
        "### Training model, given DisProt dataset"
      ],
      "metadata": {
        "id": "NAQwoAkAwOQ2"
      }
    },
    {
      "cell_type": "markdown",
      "source": [
        "Separate train/validation/test datasets. Currently using a 60/20/20 in place split from generated pandas data."
      ],
      "metadata": {
        "id": "LVya_gCvf8Ud"
      }
    },
    {
      "cell_type": "code",
      "source": [
        "randomly_sampled_pandas_data = fully_clean_pandas_data.sample(frac = 1).reset_index()\n",
        "\n",
        "train_len = round(len(randomly_sampled_pandas_data) * (60/100))\n",
        "train_pandas_data = randomly_sampled_pandas_data[0:train_len]\n",
        "train_dataset = DisProtDataset(train_pandas_data, make_image, protein_sequences_n_ids)\n",
        "\n",
        "valid_len = round((len(randomly_sampled_pandas_data) * (20/100)))\n",
        "valid_pandas_data = randomly_sampled_pandas_data[train_len:(train_len+valid_len)]\n",
        "# Reset index helps clean up index column after slicing.\n",
        "valid_pandas_data = valid_pandas_data.reset_index(drop=True)\n",
        "validation_dataset = DisProtDataset(valid_pandas_data, make_image, protein_sequences_n_ids)\n",
        "\n",
        "test_len = len(randomly_sampled_pandas_data) - (train_len + valid_len)\n",
        "test_pandas_data = randomly_sampled_pandas_data[(train_len+valid_len):]\n",
        "test_pandas_data = test_pandas_data.reset_index(drop=True)\n",
        "test_dataset = DisProtDataset(test_pandas_data, make_image, protein_sequences_n_ids)\n",
        "\n",
        "train_loader = DataLoader(train_dataset, batch_size=1,\n",
        "                        shuffle=True, num_workers=0)\n",
        "\n",
        "validation_loader = DataLoader(validation_dataset, batch_size=1,\n",
        "                        shuffle=True, num_workers=0)\n",
        "\n",
        "test_loader = DataLoader(test_dataset, batch_size=1,\n",
        "                        shuffle=True, num_workers=0)"
      ],
      "metadata": {
        "id": "idlEpTV1eASB"
      },
      "execution_count": 20,
      "outputs": []
    },
    {
      "cell_type": "code",
      "source": [
        "import datetime\n",
        "epoch_print_gap = 20\n",
        "\n",
        "def train_loop_rnn(n_epochs, optimizer, model, loss_fn, train_loader, device):\n",
        "    model = model.to(device)\n",
        "    for epoch in range(0, n_epochs):\n",
        "        \n",
        "        running_loss_train = 0.0\n",
        "        total_epoch_loss = 0.0\n",
        "\n",
        "        # Creating an iterator jumbles the sequences order, so each accumulated batch will consider different \n",
        "        # sequences over many epochs\n",
        "        train_iter = iter(train_loader)\n",
        "\n",
        "        # Where i is a counter and sam is a dictionary\n",
        "        for i, sam in enumerate(train_iter):\n",
        "          acc, image, label = sam.values()\n",
        "          # Einsum to flip axis dimensions suitable to rnn input\n",
        "          image = torch.einsum('ijk->ikj', image)\n",
        "          NN_input = image.type(torch.FloatTensor)\n",
        "          NN_input = NN_input.to(device)\n",
        "          expected_output = label.type(torch.FloatTensor)\n",
        "          expected_output = expected_output.to(device)\n",
        "\n",
        "          output, _ = model(NN_input)\n",
        "          squeezed_o = torch.squeeze(output)\n",
        "          squeezed_e_o = torch.squeeze(expected_output)\n",
        "\n",
        "          loss = loss_fn(squeezed_o, squeezed_e_o)          \n",
        "          loss.backward()\n",
        "          running_loss_train += loss.item()\n",
        "          total_epoch_loss += loss.item()\n",
        "\n",
        "          # This has effect of batches of size 16.\n",
        "          # Don't have just i as when i is 0, this is true, therefore use i+1 and divisor 17.\n",
        "          if (i+1) % 17 == 0:\n",
        "            optimizer.step()\n",
        "            optimizer.zero_grad()\n",
        "          \n",
        "          # Print loss throughout epoch.\n",
        "          # Shows loss per 400 sequences of each epoch.\n",
        "          # Only prints on print gap\n",
        "          if epoch % epoch_print_gap == 0:\n",
        "            if (i+1) % 400 == 0:\n",
        "              print(\"Epoch: \"+str(epoch), end=\" \")\n",
        "              # Average loss over these 400 sequences\n",
        "              print(\"Current loss: \"+str(running_loss_train / 400))\n",
        "              running_loss_train = 0.0\n",
        "\n",
        "        # Separates printed epochs\n",
        "        if epoch == 0 or epoch % epoch_print_gap == 0:\n",
        "            print(\"Epoch\", epoch, \"Done \\n\\n\")\n",
        "\n",
        "        epoch_loss_arr.append( (total_epoch_loss / len(train_loader)) )\n",
        "\n",
        "# Main\n",
        "lamb=0.001    # L2 weight decay term\n",
        "lr = 0.001\n",
        "epochs = 100\n",
        "new_model = RNN_Net()\n",
        "optimizer = optim.SGD(new_model.parameters(), lr=lr, momentum=0.9, weight_decay=lamb)\n",
        "criterion = nn.BCELoss()\n",
        "use_cuda = True\n",
        "device = torch.device(\"cuda\" if (use_cuda and torch.cuda.is_available()) else \"cpu\")\n",
        "\n",
        "epoch_loss_arr = []\n",
        "train_loop_rnn(epochs, optimizer, new_model, criterion, train_loader, device)\n"
      ],
      "metadata": {
        "id": "6vD3cuekmiQh",
        "colab": {
          "base_uri": "https://localhost:8080/"
        },
        "outputId": "ea709112-c4d5-40ae-ab2d-1aa8cd0f4be2"
      },
      "execution_count": 21,
      "outputs": [
        {
          "output_type": "stream",
          "name": "stdout",
          "text": [
            "Epoch: 0 Current loss: 0.6896546240150928\n",
            "Epoch: 0 Current loss: 0.5745471599698067\n",
            "Epoch: 0 Current loss: 0.5749326700717211\n",
            "Epoch 0 Done \n",
            "\n",
            "\n",
            "Epoch: 20 Current loss: 0.571617911607027\n",
            "Epoch: 20 Current loss: 0.5905393749475479\n",
            "Epoch: 20 Current loss: 0.5661952903866768\n",
            "Epoch 20 Done \n",
            "\n",
            "\n",
            "Epoch: 40 Current loss: 0.5893695233017207\n",
            "Epoch: 40 Current loss: 0.5608968137204647\n",
            "Epoch: 40 Current loss: 0.5506699424237013\n",
            "Epoch 40 Done \n",
            "\n",
            "\n",
            "Epoch: 60 Current loss: 0.5201802813634276\n",
            "Epoch: 60 Current loss: 0.5263256292790175\n",
            "Epoch: 60 Current loss: 0.5429498560726642\n",
            "Epoch 60 Done \n",
            "\n",
            "\n",
            "Epoch: 80 Current loss: 0.5208846875280142\n",
            "Epoch: 80 Current loss: 0.527132170908153\n",
            "Epoch: 80 Current loss: 0.5082150420546532\n",
            "Epoch 80 Done \n",
            "\n",
            "\n"
          ]
        }
      ]
    },
    {
      "cell_type": "code",
      "source": [
        "plt.plot(range(100), epoch_loss_arr)\n",
        "plt.show()"
      ],
      "metadata": {
        "colab": {
          "base_uri": "https://localhost:8080/",
          "height": 265
        },
        "id": "Gjl2kYBIS4z_",
        "outputId": "1409f565-9f87-4ece-e3ec-89abf2f9f7c1"
      },
      "execution_count": 22,
      "outputs": [
        {
          "output_type": "display_data",
          "data": {
            "text/plain": [
              "<Figure size 432x288 with 1 Axes>"
            ],
            "image/png": "[encoded data removed]"
          },
          "metadata": {
            "needs_background": "light"
          }
        }
      ]
    },
    {
      "cell_type": "code",
      "source": [
        "# Turns the prediction to a list of ordered/disordered codes\n",
        "def pred_round(predicted_label):\n",
        "  pred_lab = []\n",
        "  for val in predicted_label:\n",
        "    if val > 0.5:\n",
        "      pred_lab.append(1)\n",
        "    else:\n",
        "      pred_lab.append(0)\n",
        "\n",
        "  pred_lab = np.array(pred_lab)\n",
        "  return pred_lab\n",
        "\n",
        "def calc_MCC(prediction, true_label):\n",
        "  TP = FP = TN = FN = 0\n",
        "  for i, pred in enumerate(prediction):\n",
        "    labelled_index = true_label[i]\n",
        "    if pred == 0:\n",
        "      if labelled_index == 0:\n",
        "        TN += 1\n",
        "      else: # label is 1\n",
        "        FN += 1\n",
        "    else: # prediction is 1\n",
        "      if labelled_index == 1:\n",
        "        TP += 1\n",
        "      else: # label is 0\n",
        "        FP += 1\n",
        "\n",
        "  #print(\"TP: \",TP,\"\\nFP: \",FP,\"\\nTN: \",TN,\"\\nFN: \",FN)\n",
        "  num = (TP * TN) - (FP * FN)\n",
        "  den = np.sqrt( ( (TP+FP)*(TP+FN)*(TN+FP)*(TN+FN) ) )\n",
        "  if den == 0:\n",
        "    return 0\n",
        "  MCC = num / den\n",
        "  #print(\"MCC: \",MCC)\n",
        "  return MCC"
      ],
      "metadata": {
        "id": "O7GdW_hQbMDc"
      },
      "execution_count": 23,
      "outputs": []
    },
    {
      "cell_type": "code",
      "source": [
        "test_mcc_score = 0\n",
        "\n",
        "for i, sm in enumerate(test_loader):\n",
        "  #print(sm)\n",
        "  im = sm.get('image')\n",
        "  im = torch.einsum('ijk->ikj', im)\n",
        "  im = im.type(torch.FloatTensor)\n",
        "  im = im.to(device)\n",
        "  #print(im)\n",
        "\n",
        "  true_label = sm.get('label')\n",
        "  true_label = true_label[0].numpy()\n",
        "  \n",
        "  with torch.no_grad():\n",
        "    predicted_label, _ = new_model(im)\n",
        "\n",
        "  predicted_label = torch.squeeze(predicted_label)\n",
        "  pred_lab = pred_round(predicted_label)\n",
        "\n",
        "  test_mcc_score += calc_MCC(pred_lab, true_label)"
      ],
      "metadata": {
        "id": "RyIPq8LzbTMf"
      },
      "execution_count": 24,
      "outputs": []
    },
    {
      "cell_type": "code",
      "source": [
        "# Average MCC on test dataset\n",
        "test_mcc_score / len(test_loader)"
      ],
      "metadata": {
        "colab": {
          "base_uri": "https://localhost:8080/"
        },
        "id": "_kSBewJycOc1",
        "outputId": "23455822-47b5-4fc1-9d03-5a244a7072a9"
      },
      "execution_count": 28,
      "outputs": [
        {
          "output_type": "execute_result",
          "data": {
            "text/plain": [
              "0.028747111531001412"
            ]
          },
          "metadata": {},
          "execution_count": 28
        }
      ]
    },
    {
      "cell_type": "code",
      "source": [],
      "metadata": {
        "id": "V-9Jyo5icy9D"
      },
      "execution_count": null,
      "outputs": []
    }
  ]
}