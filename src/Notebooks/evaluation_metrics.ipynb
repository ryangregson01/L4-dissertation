{
  "nbformat": 4,
  "nbformat_minor": 0,
  "metadata": {
    "colab": {
      "provenance": []
    },
    "kernelspec": {
      "name": "python3",
      "display_name": "Python 3"
    },
    "language_info": {
      "name": "python"
    },
    "gpuClass": "standard"
  },
  "cells": [
    {
      "cell_type": "code",
      "execution_count": 1,
      "metadata": {
        "id": "vxYEI4q6s3Fm"
      },
      "outputs": [],
      "source": [
        "from __future__ import print_function, division\n",
        "import os\n",
        "import torch\n",
        "import pandas as pd # For csv\n",
        "import numpy as np\n",
        "import matplotlib.pyplot as plt\n",
        "from torch.utils.data import Dataset, DataLoader\n",
        "from torchvision import transforms, utils, datasets\n",
        "\n",
        "import torch.nn as nn\n",
        "import torch.nn.functional as F\n",
        "import torch.optim as optim\n",
        "\n",
        "import collections\n",
        "import requests\n",
        "import pickle\n",
        "import json"
      ]
    },
    {
      "cell_type": "markdown",
      "source": [
        "## Protein Disorder Prediction"
      ],
      "metadata": {
        "id": "SrYf5mUlnjb6"
      }
    },
    {
      "cell_type": "markdown",
      "source": [
        "### Data set-up"
      ],
      "metadata": {
        "id": "ebjZeL7Wu-rv"
      }
    },
    {
      "cell_type": "markdown",
      "source": [
        "Import drive, so that preprocessed data can be used in Notebook."
      ],
      "metadata": {
        "id": "8FElE8EiQhir"
      }
    },
    {
      "cell_type": "code",
      "source": [
        "from google.colab import drive\n",
        "drive.mount('/content/drive')"
      ],
      "metadata": {
        "id": "2WcDvDHutzeh",
        "colab": {
          "base_uri": "https://localhost:8080/"
        },
        "outputId": "4b0471c1-7403-433d-dcfa-1eba9e690348"
      },
      "execution_count": 2,
      "outputs": [
        {
          "output_type": "stream",
          "name": "stdout",
          "text": [
            "Mounted at /content/drive\n"
          ]
        }
      ]
    },
    {
      "cell_type": "markdown",
      "source": [
        "Quick access to preprocessed data, instead of downloading it each time Notebook is opened."
      ],
      "metadata": {
        "id": "Es5pCp8KeX4j"
      }
    },
    {
      "cell_type": "code",
      "source": [
        "def read_sequences():\n",
        "  with open('/content/drive/My Drive/Colab Notebooks/diss_files/sequence_data.json', 'r') as infile:\n",
        "    return json.load(infile)\n",
        "\n",
        "def read_cleaned_pandas_data():\n",
        "  return pd.read_json('/content/drive/My Drive/Colab Notebooks/diss_files/idr_pandas_table.json')\n",
        "\n",
        "protein_sequences_n_ids = read_sequences()\n",
        "fully_clean_pandas_data = read_cleaned_pandas_data()"
      ],
      "metadata": {
        "id": "r9k7T6sTaLMR"
      },
      "execution_count": 3,
      "outputs": []
    },
    {
      "cell_type": "markdown",
      "source": [
        "Amino Acids Channeled Image"
      ],
      "metadata": {
        "id": "gipyUHo2a14x"
      }
    },
    {
      "cell_type": "code",
      "source": [
        "def make_empty_image(seq):\n",
        "  img = {\n",
        "    'A' : np.zeros(len(seq)),\n",
        "    'C' : np.zeros(len(seq)),\n",
        "    'D' : np.zeros(len(seq)),\n",
        "    'E' : np.zeros(len(seq)),\n",
        "    'F' : np.zeros(len(seq)),\n",
        "    'G' : np.zeros(len(seq)),\n",
        "    'H' : np.zeros(len(seq)),\n",
        "    'I' : np.zeros(len(seq)),\n",
        "    'K' : np.zeros(len(seq)),\n",
        "    'L' : np.zeros(len(seq)),\n",
        "    'M' : np.zeros(len(seq)),\n",
        "    'N' : np.zeros(len(seq)),\n",
        "    'P' : np.zeros(len(seq)),\n",
        "    'Q' : np.zeros(len(seq)),\n",
        "    'R' : np.zeros(len(seq)),\n",
        "    'S' : np.zeros(len(seq)),\n",
        "    'T' : np.zeros(len(seq)),\n",
        "    'V' : np.zeros(len(seq)),\n",
        "    'W' : np.zeros(len(seq)),\n",
        "    'Y' : np.zeros(len(seq))\n",
        "  }\n",
        "  return img\n",
        "\n",
        "def make_image(seq):\n",
        "  # Makes 20 empty channels\n",
        "  channeled_img = make_empty_image(seq)\n",
        "  # Loop over each amino acid in the sequence - \n",
        "  # for its position add a 1 to the letter identifier channel\n",
        "  for i, char in enumerate(seq):\n",
        "    # Updates array due to arrays being like pointers\n",
        "    channeled_img.get(char)[i] = 1\n",
        "\n",
        "  return channeled_img"
      ],
      "metadata": {
        "id": "vWSLWOaK-2A9"
      },
      "execution_count": 4,
      "outputs": []
    },
    {
      "cell_type": "markdown",
      "source": [
        "### Dataset class for our data. \n",
        "- Takes in pandas data (usually full TSV).\n",
        "- The amino acid vectorising map.\n",
        "- A dictionary mapping protein accession numbers to their sequence (generated from preprocessing)."
      ],
      "metadata": {
        "id": "79WpGfwSqHFz"
      }
    },
    {
      "cell_type": "code",
      "source": [
        "class DisProtDataset(Dataset):\n",
        "    def __init__(self, pandas_table, amino_map, protein_sequences, transform=None):\n",
        "        self.disorder_prot = pandas_table\n",
        "        self.sequence_map = make_image\n",
        "        self.sequences = protein_sequences\n",
        "        self.tranform = transform\n",
        "\n",
        "    def __len__(self):\n",
        "        return len(self.disorder_prot)\n",
        "\n",
        "    def __getitem__(self, idx):\n",
        "        # Protein accession number - key identifier\n",
        "        acc = self.disorder_prot['acc'].loc[idx]\n",
        "        idrs = self.disorder_prot['disordered_regions'].loc[idx]\n",
        "        \n",
        "        # Get sequence\n",
        "        protein_sequence = self.sequences.get(acc)\n",
        "        # Vectorise amino acids\n",
        "        protein_sequence_image = self.sequence_map(protein_sequence)\n",
        "        # Converts channel dictionary to 2D array\n",
        "        protein_sequence_image = np.array(list(protein_sequence_image.values()))\n",
        "        \n",
        "        # Create order/disorder label\n",
        "        disorder_label = np.zeros(len(protein_sequence))\n",
        "        for (start, end) in idrs:\n",
        "          disorder_label[start-1:end] = 1\n",
        "\n",
        "        get_dict = {'acc': acc, 'image': protein_sequence_image, 'label': disorder_label}\n",
        "        return get_dict"
      ],
      "metadata": {
        "id": "2hbU6qcbknvs"
      },
      "execution_count": 5,
      "outputs": []
    },
    {
      "cell_type": "markdown",
      "source": [
        "Separate train/validation/test datasets. Currently using a 60/20/20 in place split from generated pandas data."
      ],
      "metadata": {
        "id": "LVya_gCvf8Ud"
      }
    },
    {
      "cell_type": "code",
      "source": [
        "randomly_sampled_pandas_data = fully_clean_pandas_data.sample(frac = 1, random_state=117).reset_index()\n",
        "\n",
        "train_len = round(len(randomly_sampled_pandas_data) * (60/100))\n",
        "train_pandas_data = randomly_sampled_pandas_data[0:train_len]\n",
        "train_dataset = DisProtDataset(train_pandas_data, make_image, protein_sequences_n_ids)\n",
        "\n",
        "valid_len = round((len(randomly_sampled_pandas_data) * (20/100)))\n",
        "valid_pandas_data = randomly_sampled_pandas_data[train_len:(train_len+valid_len)]\n",
        "# Reset index helps clean up index column after slicing.\n",
        "valid_pandas_data = valid_pandas_data.reset_index(drop=True)\n",
        "validation_dataset = DisProtDataset(valid_pandas_data, make_image, protein_sequences_n_ids)\n",
        "\n",
        "test_len = len(randomly_sampled_pandas_data) - (train_len + valid_len)\n",
        "test_pandas_data = randomly_sampled_pandas_data[(train_len+valid_len):]\n",
        "test_pandas_data = test_pandas_data.reset_index(drop=True)\n",
        "test_dataset = DisProtDataset(test_pandas_data, make_image, protein_sequences_n_ids)\n",
        "\n",
        "train_loader = DataLoader(train_dataset, batch_size=1,\n",
        "                        shuffle=True, num_workers=0)\n",
        "\n",
        "validation_loader = DataLoader(validation_dataset, batch_size=1,\n",
        "                        shuffle=True, num_workers=0)\n",
        "\n",
        "test_loader = DataLoader(test_dataset, batch_size=1,\n",
        "                        shuffle=True, num_workers=0)"
      ],
      "metadata": {
        "id": "idlEpTV1eASB"
      },
      "execution_count": 8,
      "outputs": []
    },
    {
      "cell_type": "markdown",
      "source": [
        "### Loading PyTorch NN models."
      ],
      "metadata": {
        "id": "sXw_YBXOohYT"
      }
    },
    {
      "cell_type": "code",
      "source": [
        "class FCN_Net(nn.Module):\n",
        "    def __init__(self):\n",
        "        super().__init__()\n",
        "        self.conv1 = nn.Conv1d(20, 10, 21, padding=10)\n",
        "        self.conv2 = nn.Conv1d(10, 10, 21, padding=10)\n",
        "        self.conv3 = nn.Conv1d(10, 10, 21, padding=10)\n",
        "        self.conv4 = nn.Conv1d(10, 10, 21, padding=10)\n",
        "        self.conv5 = nn.Conv1d(10, 1, 21, padding=10)\n",
        "\n",
        "    def forward(self, x):\n",
        "        x = F.relu(self.conv1(x))\n",
        "        x = F.relu(self.conv2(x))\n",
        "        x = F.relu(self.conv3(x))\n",
        "        x = F.relu(self.conv4(x))\n",
        "        x = self.conv5(x)\n",
        "        # Removal of final activation function due to Logits Loss\n",
        "        #x = torch.sigmoid(self.conv5(x))\n",
        "        return x"
      ],
      "metadata": {
        "id": "xMpITwNXTbQt"
      },
      "execution_count": 9,
      "outputs": []
    },
    {
      "cell_type": "code",
      "source": [
        "# Reads trained model from storage\n",
        "def read_model():\n",
        "  PATH = '/content/drive/My Drive/Colab Notebooks/diss_files/cnn_net.pth'\n",
        "\n",
        "  loaded_model = FCN_Net()\n",
        "  loaded_model.load_state_dict(torch.load(PATH))\n",
        "  return loaded_model\n",
        "\n",
        "loaded_model = read_model()\n",
        "loaded_model"
      ],
      "metadata": {
        "colab": {
          "base_uri": "https://localhost:8080/"
        },
        "id": "AukLsKc1t6pI",
        "outputId": "a385c1bb-df21-4833-83ef-bffe3fefc7fc"
      },
      "execution_count": 10,
      "outputs": [
        {
          "output_type": "execute_result",
          "data": {
            "text/plain": [
              "FCN_Net(\n",
              "  (conv1): Conv1d(20, 10, kernel_size=(21,), stride=(1,), padding=(10,))\n",
              "  (conv2): Conv1d(10, 10, kernel_size=(21,), stride=(1,), padding=(10,))\n",
              "  (conv3): Conv1d(10, 10, kernel_size=(21,), stride=(1,), padding=(10,))\n",
              "  (conv4): Conv1d(10, 10, kernel_size=(21,), stride=(1,), padding=(10,))\n",
              "  (conv5): Conv1d(10, 1, kernel_size=(21,), stride=(1,), padding=(10,))\n",
              ")"
            ]
          },
          "metadata": {},
          "execution_count": 10
        }
      ]
    },
    {
      "cell_type": "markdown",
      "source": [
        "### Matthews correlation coefficient\n",
        "\n",
        "MCC = $\\frac{(TP * TN) - (FP * FN)}{\\sqrt{(TP+FP)*(TP+FN)*(TN+FP)*(TN+FN)}}$\n",
        "\n",
        "Where the variables are:\n",
        "- TP - when a disordered protein is classified as disordered. A 1 is said to be a 1.\n",
        "- FP - when an ordered protein is classified as disordered.   A 0 is said to be a 1.\n",
        "- TN - when an ordered protein is classified as ordered.      A 0 is said to be a 0.\n",
        "- FN - when an disordered protein is classified as ordered.   A 1 is said to be a 0."
      ],
      "metadata": {
        "id": "kAFVg3nqUJFH"
      }
    },
    {
      "cell_type": "code",
      "source": [
        "# Turns the prediction to a list of ordered/disordered (0/1) predictions\n",
        "def pred_round(predicted_label):\n",
        "  predicted_label[predicted_label>=0.5] = 1\n",
        "  predicted_label[predicted_label<0.5] = 0\n",
        "  return predicted_label\n",
        "\n",
        "def class_correctness(predicted_label, true_label):\n",
        "  # Calculating TN value\n",
        "  # Sum as True values take on the value of 1\n",
        "  TN = (true_label[predicted_label == 0] == 0).sum()\n",
        "  # Calculating FN\n",
        "  FN = (true_label[predicted_label == 0] == 1).sum()\n",
        "  # Calculating TP\n",
        "  TP = (true_label[predicted_label == 1] == 1).sum()\n",
        "  FP = (true_label[predicted_label == 1] == 0).sum()\n",
        "  #print(\"TP: \",TP,\"\\nFP: \",FP,\"\\nTN: \",TN,\"\\nFN: \",FN)\n",
        "  return {'TN':TN, 'FN':FN, 'TP':TP, 'FP':FP}\n",
        "\n",
        "def calc_MCC(TP, TN, FP, FN):\n",
        "  num = (TP * TN) - (FP * FN)\n",
        "  den = torch.sqrt( (TP+FP)*(TP+FN)*(TN+FP)*(TN+FN) )\n",
        "  if den == 0:\n",
        "    return 0\n",
        "  MCC = num / den\n",
        "  #print(\"MCC: \", MCC)\n",
        "  return MCC"
      ],
      "metadata": {
        "id": "CBTMW0LdHYlF"
      },
      "execution_count": 11,
      "outputs": []
    },
    {
      "cell_type": "markdown",
      "source": [
        "Pre-made confusion matrix"
      ],
      "metadata": {
        "id": "G1SrcV3D6vu9"
      }
    },
    {
      "cell_type": "code",
      "source": [
        "#https://onestopdataanalysis.com/confusion-matrix-python/\n",
        "\n",
        "import seaborn\n",
        "import matplotlib.pyplot as plt\n",
        " \n",
        " \n",
        "def plot_confusion_matrix(data, labels, output_filename):\n",
        "    \"\"\"Plot confusion matrix using heatmap.\n",
        " \n",
        "    Args:\n",
        "        data (list of list): List of lists with confusion matrix data.\n",
        "        labels (list): Labels which will be plotted across x and y axis.\n",
        "        output_filename (str): Path to output file.\n",
        " \n",
        "    \"\"\"\n",
        "    seaborn.set(color_codes=True)\n",
        "    plt.figure(1, figsize=(9, 6))\n",
        " \n",
        "    plt.title(\"Confusion Matrix\")\n",
        " \n",
        "    seaborn.set(font_scale=1.4)\n",
        "    #https://stackoverflow.com/questions/60240694/suppress-scientific-notation-in-sklearn-metrics-plot-confusion-matrix\n",
        "    ax = seaborn.heatmap(data, annot=True, cmap=\"YlGnBu\", cbar_kws={'label': 'Scale'}, fmt='g')\n",
        " \n",
        "    ax.set_xticklabels(labels)\n",
        "    ax.set_yticklabels(labels)\n",
        " \n",
        "    ax.set(ylabel=\"True Label\", xlabel=\"Predicted Label\")\n",
        "\n",
        "    plt.show()\n",
        "    #plt.savefig(output_filename, bbox_inches='tight', dpi=300)\n",
        "    #plt.close()\n"
      ],
      "metadata": {
        "id": "WMYyWnivvB7-"
      },
      "execution_count": 12,
      "outputs": []
    },
    {
      "cell_type": "markdown",
      "source": [
        "Testing with one sequence"
      ],
      "metadata": {
        "id": "ISUb4_8t64Lc"
      }
    },
    {
      "cell_type": "code",
      "source": [
        "testIter = iter(test_loader)\n",
        "test_seq = next(testIter)\n",
        "input_seq = test_seq.get('image')\n",
        "input_seq = input_seq.type(torch.FloatTensor)\n",
        "true_label = test_seq.get('label')\n",
        "true_label = true_label.type(torch.FloatTensor)\n",
        "\n",
        "with torch.no_grad():\n",
        "  predicted_label = loaded_model(input_seq)\n",
        "\n",
        "predicted_label = torch.sigmoid(predicted_label)\n",
        "predicted_label = torch.squeeze(predicted_label)\n",
        "true_label = torch.squeeze(true_label)\n",
        "\n",
        "pred_lab = pred_round(predicted_label)\n",
        "dic = class_correctness(pred_lab, true_label)"
      ],
      "metadata": {
        "id": "6CRiTP0JvB_V"
      },
      "execution_count": 13,
      "outputs": []
    },
    {
      "cell_type": "code",
      "source": [
        "# define data\n",
        "data = [[dic.get('TN'), dic.get('FP')],\n",
        "        [dic.get('FN'), dic.get('TP')]]\n",
        " \n",
        "# define labels\n",
        "labels = [\"Ordered\", \"Disordered\"]\n",
        " \n",
        "# create confusion matrix\n",
        "plot_confusion_matrix(data, labels, \"confusion_matrix.png\")"
      ],
      "metadata": {
        "colab": {
          "base_uri": "https://localhost:8080/",
          "height": 410
        },
        "id": "P8GMZPgszYx7",
        "outputId": "5cf4b854-de65-476a-bd8e-13ca00dbae9b"
      },
      "execution_count": 14,
      "outputs": [
        {
          "output_type": "display_data",
          "data": {
            "text/plain": [
              "<Figure size 648x432 with 2 Axes>"
            ],
            "image/png": "[encoded data removed]"
          },
          "metadata": {}
        }
      ]
    },
    {
      "cell_type": "markdown",
      "source": [
        "Dataset MCC"
      ],
      "metadata": {
        "id": "RdB3QFrl7GgN"
      }
    },
    {
      "cell_type": "code",
      "source": [
        "def calculate_dataset_mcc(name, dataset):\n",
        "  TP = TN = FP = FN = 0\n",
        "\n",
        "  mcc_sum = 0\n",
        "\n",
        "  for seq in dataset:\n",
        "    input_seq = seq.get('image')\n",
        "    input_seq = input_seq.type(torch.FloatTensor)\n",
        "    true_label = seq.get('label')\n",
        "    true_label = true_label.type(torch.FloatTensor)\n",
        "\n",
        "    with torch.no_grad():\n",
        "      predicted_label = loaded_model(input_seq)\n",
        "\n",
        "    predicted_label = torch.sigmoid(predicted_label)\n",
        "    predicted_label = torch.squeeze(predicted_label)\n",
        "    true_label = torch.squeeze(true_label)\n",
        "\n",
        "    pred_lab = pred_round(predicted_label)\n",
        "    correct_dict = class_correctness(pred_lab, true_label)\n",
        "    TP += (correct_dict.get('TP'))\n",
        "    TN += (correct_dict.get('TN'))\n",
        "    FP += (correct_dict.get('FP'))\n",
        "    FN += (correct_dict.get('FN'))\n",
        "\n",
        "    mcc_sum += calc_MCC(correct_dict.get('TP'), correct_dict.get('TN'), correct_dict.get('FP'), correct_dict.get('FN'))\n",
        "\n",
        "\n",
        "  # Using all labels vs using average sequence mcc score over dataset\n",
        "  mcc_raw = calc_MCC(torch.Tensor([TP]), torch.Tensor([TN]), torch.Tensor([FP]), torch.Tensor([FN]))\n",
        "  print(name+\" MCC score: \", mcc_raw)\n",
        "\n",
        "  print(\"MCC average: \", mcc_sum / len(dataset))\n",
        "\n",
        "  data = [[TN, FP],\n",
        "        [FN, TP]]\n",
        "  labels = [\"Ordered\", \"Disordered\"]\n",
        "  plot_confusion_matrix(data, labels, \"confusion_matrix.png\")"
      ],
      "metadata": {
        "id": "NlxVrKd_2LnI"
      },
      "execution_count": 20,
      "outputs": []
    },
    {
      "cell_type": "code",
      "source": [
        "calculate_dataset_mcc(\"Test\", test_loader)"
      ],
      "metadata": {
        "colab": {
          "base_uri": "https://localhost:8080/",
          "height": 445
        },
        "id": "ZNnzamNM2Ly4",
        "outputId": "18a169bf-1ffa-4370-800a-50d4abb98563"
      },
      "execution_count": 21,
      "outputs": [
        {
          "output_type": "stream",
          "name": "stdout",
          "text": [
            "Test MCC score:  tensor([0.2504])\n",
            "MCC average:  tensor(0.2005)\n"
          ]
        },
        {
          "output_type": "display_data",
          "data": {
            "text/plain": [
              "<Figure size 648x432 with 2 Axes>"
            ],
            "image/png": "[encoded data removed]"
          },
          "metadata": {}
        }
      ]
    },
    {
      "cell_type": "markdown",
      "source": [
        "Other standard evaluation metrics"
      ],
      "metadata": {
        "id": "B8ca6dOZ7kbg"
      }
    },
    {
      "cell_type": "markdown",
      "source": [
        "https://towardsdatascience.com/metrics-to-evaluate-your-machine-learning-algorithm-f10ba6e38234\n",
        "\n",
        "\n",
        "Accuracy = $\\frac{Number of Correct predictions}{Total number of predictions made}$ = $\\frac{TP+TN}{TP+TN+FP+FN}$\n",
        "\n",
        "Precision = $\\frac{TP}{TP+FP}$\n",
        "\n",
        "Recall = $\\frac{TP}{TP+FN}$\n",
        "\n",
        "Recall = $\\frac{2 * precision * recall}{precision+recall}$"
      ],
      "metadata": {
        "id": "bI9qKy_yNMIt"
      }
    },
    {
      "cell_type": "code",
      "source": [
        "def calculate_dataset_metrics(name, dataset):\n",
        "  TP = TN = FP = FN = 0\n",
        "\n",
        "  for seq in dataset:\n",
        "    input_seq = seq.get('image')\n",
        "    input_seq = input_seq.type(torch.FloatTensor)\n",
        "    true_label = seq.get('label')\n",
        "    true_label = true_label.type(torch.FloatTensor)\n",
        "\n",
        "    with torch.no_grad():\n",
        "      predicted_label = loaded_model(input_seq)\n",
        "\n",
        "    predicted_label = torch.sigmoid(predicted_label)\n",
        "    predicted_label = torch.squeeze(predicted_label)\n",
        "    true_label = torch.squeeze(true_label)\n",
        "\n",
        "    pred_lab = pred_round(predicted_label)\n",
        "    correct_dict = class_correctness(pred_lab, true_label)\n",
        "    TP += (correct_dict.get('TP'))\n",
        "    TN += (correct_dict.get('TN'))\n",
        "    FP += (correct_dict.get('FP'))\n",
        "    FN += (correct_dict.get('FN'))\n",
        "\n",
        "  data = [[TN, FP],\n",
        "        [FN, TP]]\n",
        "  labels = [\"Ordered\", \"Disordered\"]\n",
        "  plot_confusion_matrix(data, labels, \"confusion_matrix.png\")\n",
        "\n",
        "\n",
        "  accuracy = (TP+TN) / (TP+TN+FP+FN)\n",
        "  precision = TP / (TP+FP)\n",
        "  recall = TP / (TP+FN)\n",
        "  f1score = (2*precision*recall) / (precision + recall)\n",
        "\n",
        "\n",
        "  print(\"Accuracy:\\t \", accuracy)\n",
        "  print(\"Precision:\\t \", precision)\n",
        "  print(\"Recall:\\t\\t \", recall)\n",
        "  print(\"F1 score:\\t \", f1score)\n",
        "  \n"
      ],
      "metadata": {
        "id": "rn51pTClNbAG"
      },
      "execution_count": 22,
      "outputs": []
    },
    {
      "cell_type": "code",
      "source": [
        "calculate_dataset_metrics(\"Test\", test_loader)"
      ],
      "metadata": {
        "colab": {
          "base_uri": "https://localhost:8080/",
          "height": 479
        },
        "id": "eAXeO0pWPPaP",
        "outputId": "e32781cc-518d-4c36-8078-2876a0efd986"
      },
      "execution_count": 23,
      "outputs": [
        {
          "output_type": "display_data",
          "data": {
            "text/plain": [
              "<Figure size 648x432 with 2 Axes>"
            ],
            "image/png": "[encoded data removed]"
          },
          "metadata": {}
        },
        {
          "output_type": "stream",
          "name": "stdout",
          "text": [
            "Accuracy:\t  tensor(0.6288)\n",
            "Precision:\t  tensor(0.2810)\n",
            "Recall:\t\t  tensor(0.7176)\n",
            "F1 score:\t  tensor(0.4039)\n"
          ]
        }
      ]
    },
    {
      "cell_type": "code",
      "source": [],
      "metadata": {
        "id": "dtTslbXtwiDU"
      },
      "execution_count": null,
      "outputs": []
    }
  ]
}