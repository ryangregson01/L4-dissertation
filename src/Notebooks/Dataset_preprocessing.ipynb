{
  "nbformat": 4,
  "nbformat_minor": 0,
  "metadata": {
    "colab": {
      "provenance": []
    },
    "kernelspec": {
      "name": "python3",
      "display_name": "Python 3"
    },
    "language_info": {
      "name": "python"
    },
    "gpuClass": "standard"
  },
  "cells": [
    {
      "cell_type": "code",
      "execution_count": null,
      "metadata": {
        "id": "vxYEI4q6s3Fm"
      },
      "outputs": [],
      "source": [
        "from __future__ import print_function, division\n",
        "import os\n",
        "import pandas as pd # For csv\n",
        "import numpy as np\n",
        "\n",
        "import requests\n",
        "import json"
      ]
    },
    {
      "cell_type": "markdown",
      "source": [
        "### Data set-up"
      ],
      "metadata": {
        "id": "ebjZeL7Wu-rv"
      }
    },
    {
      "cell_type": "markdown",
      "source": [
        "Import drive, so that read and write access can be used with processed files, speeding up workflow."
      ],
      "metadata": {
        "id": "8FElE8EiQhir"
      }
    },
    {
      "cell_type": "code",
      "source": [
        "from google.colab import drive\n",
        "drive.mount('/content/drive')"
      ],
      "metadata": {
        "id": "2WcDvDHutzeh",
        "colab": {
          "base_uri": "https://localhost:8080/"
        },
        "outputId": "bade1463-def2-4576-897c-bae905f1973a"
      },
      "execution_count": null,
      "outputs": [
        {
          "output_type": "stream",
          "name": "stdout",
          "text": [
            "Mounted at /content/drive\n"
          ]
        }
      ]
    },
    {
      "cell_type": "markdown",
      "source": [
        "#### Downloading data from Disprot website\n",
        "- Disprot API had no clear way to download the full file of annotated disordered sequences.\n",
        "- Custom function uses URL from inspecting Disprots source code to download the TSV file.\n",
        "- Can change the release date and constraints on the documented sequences.\n",
        "- NB: TSV format and consensus false must remain to work with the rest of the processing steps.\n",
        "- Project has been done using the following:\n",
        " - year = '2022_06'\n",
        " - ambiguous = 'true'\n",
        " - obsolete = 'false'\n",
        " - format = 'tsv'\n",
        " - consensus = 'false'\n",
        "\n",
        "#### Creating a pandas dataframe containing accession IDs and disordered region locations.\n",
        "- This is used to generate labels for our disordered sequences."
      ],
      "metadata": {
        "id": "c7_KPDlHOgrz"
      }
    },
    {
      "cell_type": "code",
      "source": [
        "def get_disprot_dataset():\n",
        "  year = '2022_06'\n",
        "  ambiguous = 'true'\n",
        "  obsolete = 'false'\n",
        "  format = 'tsv'\n",
        "  # The rest of the processing only works if consensus is false. Assumes region file format.\n",
        "  consensus = 'false'\n",
        "\n",
        "  disprot_link = \"https://disprot.org/api/search?release=\"+year+\"&show_ambiguous=\"+ambiguous+\"&show_obsolete=\"+obsolete+\"&format=\"+format+\"&namespace=all&get_consensus=\"+consensus\n",
        "  with open('/content/drive/My Drive/Colab Notebooks/diss_files/downloaded_disprot_data.tsv', 'w') as outfile:\n",
        "    outfile.write( requests.get(disprot_link).text )\n",
        "\n",
        "  # Data from DisProt TSV - https://disprot.org/download\n",
        "  data_disprot = pd.read_csv('/content/drive/My Drive/Colab Notebooks/diss_files/downloaded_disprot_data.tsv', sep='\\t')\n",
        "  return data_disprot\n",
        "\n",
        "def create_dataframe_of_idrs(data_disprot):\n",
        "  # Dictionary for disordered region data from DisProt\n",
        "  disorder_start_and_end = {}\n",
        "  for i, acc in enumerate(data_disprot['acc']):\n",
        "    s = data_disprot['start'][i]\n",
        "    e = data_disprot['end'][i]\n",
        "    arr = disorder_start_and_end.get((str(acc)), [])\n",
        "    if (s, e) not in arr:\n",
        "      disorder_start_and_end[str(acc)] = arr + [(s, e)]\n",
        "      \n",
        "  # Create new table for important DisProt data\n",
        "  data = {'acc': disorder_start_and_end.keys(), 'disordered_regions': disorder_start_and_end.values()}\n",
        "  pandas_data = pd.DataFrame.from_dict(data)\n",
        "  return pandas_data\n"
      ],
      "metadata": {
        "id": "HMquOZ31Q0pp"
      },
      "execution_count": null,
      "outputs": []
    },
    {
      "cell_type": "code",
      "source": [
        "data_disprot = get_disprot_dataset()\n",
        "pandas_data = create_dataframe_of_idrs(data_disprot)"
      ],
      "metadata": {
        "id": "CZ7zmVQONJao"
      },
      "execution_count": null,
      "outputs": []
    },
    {
      "cell_type": "code",
      "source": [
        "pandas_data"
      ],
      "metadata": {
        "id": "2zdirGSM1mLG",
        "colab": {
          "base_uri": "https://localhost:8080/",
          "height": 424
        },
        "outputId": "b8581cb9-5b21-4689-e9d0-e9bccccfafa2"
      },
      "execution_count": null,
      "outputs": [
        {
          "output_type": "execute_result",
          "data": {
            "text/plain": [
              "             acc                                disordered_regions\n",
              "0         P03265                          [(294, 334), (454, 464)]\n",
              "1         P49913                                      [(134, 170)]\n",
              "2         P03045            [(1, 107), (1, 22), (34, 47), (1, 36)]\n",
              "3         P00004                              [(1, 104), (2, 105)]\n",
              "4         P27695             [(1, 42), (1, 36), (32, 43), (2, 40)]\n",
              "...          ...                                               ...\n",
              "2414  A0A5P2U9X4  [(350, 525), (460, 521), (417, 426), (450, 525)]\n",
              "2415      P40939                                      [(637, 647)]\n",
              "2416      Q6CSX2                                      [(562, 831)]\n",
              "2417      Q8IYT8                                      [(168, 177)]\n",
              "2418      Q9UHK0                                      [(486, 495)]\n",
              "\n",
              "[2419 rows x 2 columns]"
            ],
            "text/html": [
              "\n",
              "  <div id=\"df-4881ed62-b285-4c70-9c08-01a3e659199d\">\n",
              "    <div class=\"colab-df-container\">\n",
              "      <div>\n",
              "<style scoped>\n",
              "    .dataframe tbody tr th:only-of-type {\n",
              "        vertical-align: middle;\n",
              "    }\n",
              "\n",
              "    .dataframe tbody tr th {\n",
              "        vertical-align: top;\n",
              "    }\n",
              "\n",
              "    .dataframe thead th {\n",
              "        text-align: right;\n",
              "    }\n",
              "</style>\n",
              "<table border=\"1\" class=\"dataframe\">\n",
              "  <thead>\n",
              "    <tr style=\"text-align: right;\">\n",
              "      <th></th>\n",
              "      <th>acc</th>\n",
              "      <th>disordered_regions</th>\n",
              "    </tr>\n",
              "  </thead>\n",
              "  <tbody>\n",
              "    <tr>\n",
              "      <th>0</th>\n",
              "      <td>P03265</td>\n",
              "      <td>[(294, 334), (454, 464)]</td>\n",
              "    </tr>\n",
              "    <tr>\n",
              "      <th>1</th>\n",
              "      <td>P49913</td>\n",
              "      <td>[(134, 170)]</td>\n",
              "    </tr>\n",
              "    <tr>\n",
              "      <th>2</th>\n",
              "      <td>P03045</td>\n",
              "      <td>[(1, 107), (1, 22), (34, 47), (1, 36)]</td>\n",
              "    </tr>\n",
              "    <tr>\n",
              "      <th>3</th>\n",
              "      <td>P00004</td>\n",
              "      <td>[(1, 104), (2, 105)]</td>\n",
              "    </tr>\n",
              "    <tr>\n",
              "      <th>4</th>\n",
              "      <td>P27695</td>\n",
              "      <td>[(1, 42), (1, 36), (32, 43), (2, 40)]</td>\n",
              "    </tr>\n",
              "    <tr>\n",
              "      <th>...</th>\n",
              "      <td>...</td>\n",
              "      <td>...</td>\n",
              "    </tr>\n",
              "    <tr>\n",
              "      <th>2414</th>\n",
              "      <td>A0A5P2U9X4</td>\n",
              "      <td>[(350, 525), (460, 521), (417, 426), (450, 525)]</td>\n",
              "    </tr>\n",
              "    <tr>\n",
              "      <th>2415</th>\n",
              "      <td>P40939</td>\n",
              "      <td>[(637, 647)]</td>\n",
              "    </tr>\n",
              "    <tr>\n",
              "      <th>2416</th>\n",
              "      <td>Q6CSX2</td>\n",
              "      <td>[(562, 831)]</td>\n",
              "    </tr>\n",
              "    <tr>\n",
              "      <th>2417</th>\n",
              "      <td>Q8IYT8</td>\n",
              "      <td>[(168, 177)]</td>\n",
              "    </tr>\n",
              "    <tr>\n",
              "      <th>2418</th>\n",
              "      <td>Q9UHK0</td>\n",
              "      <td>[(486, 495)]</td>\n",
              "    </tr>\n",
              "  </tbody>\n",
              "</table>\n",
              "<p>2419 rows × 2 columns</p>\n",
              "</div>\n",
              "      <button class=\"colab-df-convert\" onclick=\"convertToInteractive('df-4881ed62-b285-4c70-9c08-01a3e659199d')\"\n",
              "              title=\"Convert this dataframe to an interactive table.\"\n",
              "              style=\"display:none;\">\n",
              "        \n",
              "  <svg xmlns=\"http://www.w3.org/2000/svg\" height=\"24px\"viewBox=\"0 0 24 24\"\n",
              "       width=\"24px\">\n",
              "    <path d=\"M0 0h24v24H0V0z\" fill=\"none\"/>\n",
              "    <path d=\"M18.56 5.44l.94 2.06.94-2.06 2.06-.94-2.06-.94-.94-2.06-.94 2.06-2.06.94zm-11 1L8.5 8.5l.94-2.06 2.06-.94-2.06-.94L8.5 2.5l-.94 2.06-2.06.94zm10 10l.94 2.06.94-2.06 2.06-.94-2.06-.94-.94-2.06-.94 2.06-2.06.94z\"/><path d=\"M17.41 7.96l-1.37-1.37c-.4-.4-.92-.59-1.43-.59-.52 0-1.04.2-1.43.59L10.3 9.45l-7.72 7.72c-.78.78-.78 2.05 0 2.83L4 21.41c.39.39.9.59 1.41.59.51 0 1.02-.2 1.41-.59l7.78-7.78 2.81-2.81c.8-.78.8-2.07 0-2.86zM5.41 20L4 18.59l7.72-7.72 1.47 1.35L5.41 20z\"/>\n",
              "  </svg>\n",
              "      </button>\n",
              "      \n",
              "  <style>\n",
              "    .colab-df-container {\n",
              "      display:flex;\n",
              "      flex-wrap:wrap;\n",
              "      gap: 12px;\n",
              "    }\n",
              "\n",
              "    .colab-df-convert {\n",
              "      background-color: #E8F0FE;\n",
              "      border: none;\n",
              "      border-radius: 50%;\n",
              "      cursor: pointer;\n",
              "      display: none;\n",
              "      fill: #1967D2;\n",
              "      height: 32px;\n",
              "      padding: 0 0 0 0;\n",
              "      width: 32px;\n",
              "    }\n",
              "\n",
              "    .colab-df-convert:hover {\n",
              "      background-color: #E2EBFA;\n",
              "      box-shadow: 0px 1px 2px rgba(60, 64, 67, 0.3), 0px 1px 3px 1px rgba(60, 64, 67, 0.15);\n",
              "      fill: #174EA6;\n",
              "    }\n",
              "\n",
              "    [theme=dark] .colab-df-convert {\n",
              "      background-color: #3B4455;\n",
              "      fill: #D2E3FC;\n",
              "    }\n",
              "\n",
              "    [theme=dark] .colab-df-convert:hover {\n",
              "      background-color: #434B5C;\n",
              "      box-shadow: 0px 1px 3px 1px rgba(0, 0, 0, 0.15);\n",
              "      filter: drop-shadow(0px 1px 2px rgba(0, 0, 0, 0.3));\n",
              "      fill: #FFFFFF;\n",
              "    }\n",
              "  </style>\n",
              "\n",
              "      <script>\n",
              "        const buttonEl =\n",
              "          document.querySelector('#df-4881ed62-b285-4c70-9c08-01a3e659199d button.colab-df-convert');\n",
              "        buttonEl.style.display =\n",
              "          google.colab.kernel.accessAllowed ? 'block' : 'none';\n",
              "\n",
              "        async function convertToInteractive(key) {\n",
              "          const element = document.querySelector('#df-4881ed62-b285-4c70-9c08-01a3e659199d');\n",
              "          const dataTable =\n",
              "            await google.colab.kernel.invokeFunction('convertToInteractive',\n",
              "                                                     [key], {});\n",
              "          if (!dataTable) return;\n",
              "\n",
              "          const docLinkHtml = 'Like what you see? Visit the ' +\n",
              "            '<a target=\"_blank\" href=https://colab.research.google.com/notebooks/data_table.ipynb>data table notebook</a>'\n",
              "            + ' to learn more about interactive tables.';\n",
              "          element.innerHTML = '';\n",
              "          dataTable['output_type'] = 'display_data';\n",
              "          await google.colab.output.renderOutput(dataTable, element);\n",
              "          const docLink = document.createElement('div');\n",
              "          docLink.innerHTML = docLinkHtml;\n",
              "          element.appendChild(docLink);\n",
              "        }\n",
              "      </script>\n",
              "    </div>\n",
              "  </div>\n",
              "  "
            ]
          },
          "metadata": {},
          "execution_count": 5
        }
      ]
    },
    {
      "cell_type": "markdown",
      "source": [
        "#### Downloading the full protein sequences.\n",
        "- Downloads these full sequences from UniProt.\n",
        " - If an empty string is returned this means the protein has been deprecated and we will not include this in our dataset.\n",
        "- Creates a dataframe"
      ],
      "metadata": {
        "id": "mYR0BZRiSrgO"
      }
    },
    {
      "cell_type": "markdown",
      "source": [
        "The proteins in this dataframe are preprocessed to get their full sequences from UniProt."
      ],
      "metadata": {
        "id": "UgikDmCOs6pQ"
      }
    },
    {
      "cell_type": "code",
      "source": [
        "def preprocess_sequences(pandas_data):\n",
        "  protSeqDict = {}\n",
        "  for row in range(len(pandas_data)):\n",
        "    acc = pandas_data['acc'].loc[row]\n",
        "\n",
        "    url = f'https://www.uniprot.org/uniprotkb/{str(acc)}.fasta'\n",
        "    uniprot_fasta = requests.get(url).text\n",
        "    # Gets the sequence as a string of amino acids\n",
        "    protein_sequence = uniprot_fasta.split('\\n')[1:]\n",
        "    protein_sequence = ''.join(protein_sequence)\n",
        "\n",
        "    if protein_sequence == '':\n",
        "      continue\n",
        "\n",
        "    protSeqDict[acc] = protein_sequence\n",
        "  return protSeqDict\n",
        "\n",
        "protein_sequences_n_ids = preprocess_sequences(pandas_data)"
      ],
      "metadata": {
        "id": "__HLboQMkuC0"
      },
      "execution_count": null,
      "outputs": []
    },
    {
      "cell_type": "code",
      "source": [
        "# Save preprocessed data\n",
        "def write_sequences():\n",
        "  with open('/content/drive/My Drive/Colab Notebooks/diss_files/sequence_data.json', 'w') as outfile:\n",
        "    json.dump(protein_sequences_n_ids, outfile)\n",
        "\n",
        "# Quick access to preprocessed data, instead of downloading it each time Notebook is opened.\n",
        "def read_sequences():\n",
        "  with open('/content/drive/My Drive/Colab Notebooks/diss_files/sequence_data.json', 'r') as infile:\n",
        "    return json.load(infile)\n",
        "\n",
        "# Commented out write sequences, so this file is not accidentally overwritten before preprocessing is ran\n",
        "#write_sequences()\n",
        "protein_sequences_n_ids = read_sequences()"
      ],
      "metadata": {
        "id": "zeWa776Z6oCT"
      },
      "execution_count": null,
      "outputs": []
    },
    {
      "cell_type": "markdown",
      "source": [
        "#### Removing protein data that is incompatible with my solution.\n",
        "- Removing deprecated entries from dataset. This empty string broke when compared to a label the length of the deprecated sequence.\n",
        "- Removing ambiguous sequences from dataset. My solution only handles the 20 known amino acid codes."
      ],
      "metadata": {
        "id": "rLif_xOQeo_c"
      }
    },
    {
      "cell_type": "code",
      "source": [
        "def cleaning_pandas_data():\n",
        "\n",
        "  # Removing deprecated entries\n",
        "  clean_pandas_data = pandas_data\n",
        "  non_deprecated_acc = protein_sequences_n_ids.keys()\n",
        "  for acc in pandas_data['acc']:\n",
        "    if acc in non_deprecated_acc:\n",
        "      continue\n",
        "    else:\n",
        "      index_to_drop = clean_pandas_data[clean_pandas_data['acc'] == acc].index.tolist()[0]\n",
        "      clean_pandas_data = clean_pandas_data.drop(index_to_drop)\n",
        "\n",
        "  # Removing ambiguous sequences\n",
        "  for acc in clean_pandas_data['acc']:\n",
        "    seq = protein_sequences_n_ids.get(acc)\n",
        "    # These letter codes are used when an amino acid is ambiguous\n",
        "    if 'X' in seq or 'U' in seq or 'Z' in seq:\n",
        "      index_to_drop = clean_pandas_data[clean_pandas_data['acc'] == acc].index.tolist()[0]\n",
        "      clean_pandas_data = clean_pandas_data.drop(index_to_drop)\n",
        "\n",
        "  return clean_pandas_data.reset_index().drop(columns=['index'])\n",
        "\n",
        "def write_cleaned_pandas_data(pandas_df):\n",
        "  pandas_df.to_json('/content/drive/My Drive/Colab Notebooks/diss_files/idr_pandas_table.json')\n",
        "\n",
        "def read_cleaned_pandas_data():\n",
        "  return pd.read_json('/content/drive/My Drive/Colab Notebooks/diss_files/idr_pandas_table.json')"
      ],
      "metadata": {
        "id": "hBSpgSf24pev"
      },
      "execution_count": null,
      "outputs": []
    },
    {
      "cell_type": "code",
      "source": [
        "cleaned_pandas_data = cleaning_pandas_data()\n",
        "write_cleaned_pandas_data(cleaned_pandas_data)"
      ],
      "metadata": {
        "id": "LvSnFFs37mo3"
      },
      "execution_count": null,
      "outputs": []
    },
    {
      "cell_type": "code",
      "source": [
        "fully_clean_pandas_data = read_cleaned_pandas_data()"
      ],
      "metadata": {
        "id": "iIY3f1wrZLqI"
      },
      "execution_count": null,
      "outputs": []
    },
    {
      "cell_type": "code",
      "source": [],
      "metadata": {
        "id": "tkWNK9n2RoP1"
      },
      "execution_count": null,
      "outputs": []
    }
  ]
}